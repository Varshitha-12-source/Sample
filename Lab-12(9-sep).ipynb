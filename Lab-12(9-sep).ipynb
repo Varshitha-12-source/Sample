{
 "cells": [
  {
   "cell_type": "code",
   "execution_count": null,
   "id": "4022e1c6-9a99-4857-b029-78d8e0d270f8",
   "metadata": {},
   "outputs": [],
   "source": [
    "Handling csv in python\n",
    "Course code:CSI3007\n",
    "Lab no:7\n",
    "Name:Varshitha V\n",
    "Reg.no:22MID0105\n",
    "Date:5/8/25"
   ]
  },
  {
   "cell_type": "markdown",
   "id": "a1a24d2e-2115-4941-9ad9-fb4fa1f79b04",
   "metadata": {},
   "source": [
    "# Reading an csv file"
   ]
  },
  {
   "cell_type": "code",
   "execution_count": 2,
   "id": "c029d5cc-b771-4423-a5fa-1fc45b6dba05",
   "metadata": {},
   "outputs": [
    {
     "data": {
      "text/html": [
       "<div>\n",
       "<style scoped>\n",
       "    .dataframe tbody tr th:only-of-type {\n",
       "        vertical-align: middle;\n",
       "    }\n",
       "\n",
       "    .dataframe tbody tr th {\n",
       "        vertical-align: top;\n",
       "    }\n",
       "\n",
       "    .dataframe thead th {\n",
       "        text-align: right;\n",
       "    }\n",
       "</style>\n",
       "<table border=\"1\" class=\"dataframe\">\n",
       "  <thead>\n",
       "    <tr style=\"text-align: right;\">\n",
       "      <th></th>\n",
       "      <th>Index</th>\n",
       "      <th>Customer Id</th>\n",
       "      <th>First Name</th>\n",
       "      <th>Last Name</th>\n",
       "      <th>Company</th>\n",
       "      <th>City</th>\n",
       "      <th>Country</th>\n",
       "      <th>Phone 1</th>\n",
       "      <th>Phone 2</th>\n",
       "      <th>Email</th>\n",
       "      <th>Subscription Date</th>\n",
       "      <th>Website</th>\n",
       "    </tr>\n",
       "  </thead>\n",
       "  <tbody>\n",
       "    <tr>\n",
       "      <th>0</th>\n",
       "      <td>1</td>\n",
       "      <td>ffeCAb7AbcB0f07</td>\n",
       "      <td>Jared</td>\n",
       "      <td>Jarvis</td>\n",
       "      <td>Sanchez-Fletcher</td>\n",
       "      <td>Hatfieldshire</td>\n",
       "      <td>Eritrea</td>\n",
       "      <td>274.188.8773x41185</td>\n",
       "      <td>001-215-760-4642x969</td>\n",
       "      <td>gabriellehartman@benjamin.com</td>\n",
       "      <td>2021-11-11</td>\n",
       "      <td>https://www.mccarthy.info/</td>\n",
       "    </tr>\n",
       "    <tr>\n",
       "      <th>1</th>\n",
       "      <td>2</td>\n",
       "      <td>b687FfC4F1600eC</td>\n",
       "      <td>Marie</td>\n",
       "      <td>Malone</td>\n",
       "      <td>Mckay PLC</td>\n",
       "      <td>Robertsonburgh</td>\n",
       "      <td>Botswana</td>\n",
       "      <td>283-236-9529</td>\n",
       "      <td>(189)129-8356x63741</td>\n",
       "      <td>kstafford@sexton.com</td>\n",
       "      <td>2021-05-14</td>\n",
       "      <td>http://www.reynolds.com/</td>\n",
       "    </tr>\n",
       "    <tr>\n",
       "      <th>2</th>\n",
       "      <td>3</td>\n",
       "      <td>9FF9ACbc69dcF9c</td>\n",
       "      <td>Elijah</td>\n",
       "      <td>Barrera</td>\n",
       "      <td>Marks and Sons</td>\n",
       "      <td>Kimbury</td>\n",
       "      <td>Barbados</td>\n",
       "      <td>8252703789</td>\n",
       "      <td>459-916-7241x0909</td>\n",
       "      <td>jeanettecross@brown.com</td>\n",
       "      <td>2021-03-17</td>\n",
       "      <td>https://neal.com/</td>\n",
       "    </tr>\n",
       "    <tr>\n",
       "      <th>3</th>\n",
       "      <td>4</td>\n",
       "      <td>b49edDB1295FF6E</td>\n",
       "      <td>Sheryl</td>\n",
       "      <td>Montgomery</td>\n",
       "      <td>Kirby, Vaughn and Sanders</td>\n",
       "      <td>Briannaview</td>\n",
       "      <td>Antarctica (the territory South of 60 deg S)</td>\n",
       "      <td>425.475.3586</td>\n",
       "      <td>(392)819-9063</td>\n",
       "      <td>thomassierra@barrett.com</td>\n",
       "      <td>2020-09-23</td>\n",
       "      <td>https://www.powell-bryan.com/</td>\n",
       "    </tr>\n",
       "    <tr>\n",
       "      <th>4</th>\n",
       "      <td>5</td>\n",
       "      <td>3dcCbFEB17CCf2E</td>\n",
       "      <td>Jeremy</td>\n",
       "      <td>Houston</td>\n",
       "      <td>Lester-Manning</td>\n",
       "      <td>South Brianna</td>\n",
       "      <td>Micronesia</td>\n",
       "      <td>+1-223-666-5313x4530</td>\n",
       "      <td>252-488-3850x692</td>\n",
       "      <td>rubenwatkins@jacobs-wallace.info</td>\n",
       "      <td>2020-09-18</td>\n",
       "      <td>https://www.carrillo.com/</td>\n",
       "    </tr>\n",
       "  </tbody>\n",
       "</table>\n",
       "</div>"
      ],
      "text/plain": [
       "   Index      Customer Id First Name   Last Name                    Company  \\\n",
       "0      1  ffeCAb7AbcB0f07      Jared      Jarvis           Sanchez-Fletcher   \n",
       "1      2  b687FfC4F1600eC      Marie      Malone                  Mckay PLC   \n",
       "2      3  9FF9ACbc69dcF9c     Elijah     Barrera             Marks and Sons   \n",
       "3      4  b49edDB1295FF6E     Sheryl  Montgomery  Kirby, Vaughn and Sanders   \n",
       "4      5  3dcCbFEB17CCf2E     Jeremy     Houston             Lester-Manning   \n",
       "\n",
       "             City                                       Country  \\\n",
       "0   Hatfieldshire                                       Eritrea   \n",
       "1  Robertsonburgh                                      Botswana   \n",
       "2         Kimbury                                      Barbados   \n",
       "3     Briannaview  Antarctica (the territory South of 60 deg S)   \n",
       "4   South Brianna                                    Micronesia   \n",
       "\n",
       "                Phone 1               Phone 2  \\\n",
       "0    274.188.8773x41185  001-215-760-4642x969   \n",
       "1          283-236-9529   (189)129-8356x63741   \n",
       "2            8252703789     459-916-7241x0909   \n",
       "3          425.475.3586         (392)819-9063   \n",
       "4  +1-223-666-5313x4530      252-488-3850x692   \n",
       "\n",
       "                              Email Subscription Date  \\\n",
       "0     gabriellehartman@benjamin.com        2021-11-11   \n",
       "1              kstafford@sexton.com        2021-05-14   \n",
       "2           jeanettecross@brown.com        2021-03-17   \n",
       "3          thomassierra@barrett.com        2020-09-23   \n",
       "4  rubenwatkins@jacobs-wallace.info        2020-09-18   \n",
       "\n",
       "                         Website  \n",
       "0     https://www.mccarthy.info/  \n",
       "1       http://www.reynolds.com/  \n",
       "2              https://neal.com/  \n",
       "3  https://www.powell-bryan.com/  \n",
       "4      https://www.carrillo.com/  "
      ]
     },
     "execution_count": 2,
     "metadata": {},
     "output_type": "execute_result"
    }
   ],
   "source": [
    "import pandas as pd   # import pandas\n",
    "\n",
    "df = pd.read_csv(\"Downloads/customers.csv\")   # read CSV file\n",
    "\n",
    "df.head()   # show first 5 rows\n"
   ]
  },
  {
   "cell_type": "markdown",
   "id": "1e6178bb-a08f-41a1-8654-207484278180",
   "metadata": {},
   "source": [
    "# Read an existing CSV file into a DataFrame"
   ]
  },
  {
   "cell_type": "code",
   "execution_count": 4,
   "id": "fdc57f22-711d-45d2-9c0a-44264db6e0bf",
   "metadata": {},
   "outputs": [
    {
     "name": "stdout",
     "output_type": "stream",
     "text": [
      "CSV file loaded successfully!\n",
      "\n",
      "--- First 5 Rows ---\n",
      "   Index      Customer Id First Name Last Name          Company  \\\n",
      "0    187  new_customer_id       John       Doe  New Company Inc   \n",
      "1    999               28      50000   1750.25              NaN   \n",
      "2    188         cust_188       Emma    Wilson      Future Tech   \n",
      "3    189         cust_189     Olivia   Johnson         TechSoft   \n",
      "\n",
      "            City        Country       Phone 1       Phone 2  \\\n",
      "0       New York  United States  555-123-4567  555-987-6543   \n",
      "1            NaN            NaN           NaN           NaN   \n",
      "2  San Francisco            USA  222-333-4444  555-666-7777   \n",
      "3        Chicago            USA  123-456-7890  987-654-3210   \n",
      "\n",
      "                        Email Subscription Date                    Website  \n",
      "0        john.doe@example.com        2023-01-01  http://www.newcompany.com  \n",
      "1                         NaN               NaN                        NaN  \n",
      "2     emma.wilson@example.com        2025-09-10  http://www.futuretech.com  \n",
      "3  olivia.johnson@example.com        2025-09-10    http://www.techsoft.com  \n"
     ]
    }
   ],
   "source": [
    "import pandas as pd   # import pandas\n",
    "import os             # import os (used for file handling)\n",
    "\n",
    "file_path = 'customers.csv'   # file name / path\n",
    "\n",
    "try:\n",
    "    # Try to read the CSV file\n",
    "    df = pd.read_csv(file_path)\n",
    "    print(\"CSV file loaded successfully!\")\n",
    "\n",
    "    # Show first 5 rows\n",
    "    print(\"\\n--- First 5 Rows ---\")\n",
    "    print(df.head())\n",
    "\n",
    "except FileNotFoundError:\n",
    "    # If file not found, show error message\n",
    "    print(f\"Error: The file '{file_path}' was not found.\")\n",
    "    df = pd.DataFrame()   # create empty DataFrame if file missing\n"
   ]
  },
  {
   "cell_type": "markdown",
   "id": "e1441ce7-5453-42c8-8266-b113907ce8ec",
   "metadata": {},
   "source": [
    "# Append a new row "
   ]
  },
  {
   "cell_type": "code",
   "execution_count": 6,
   "id": "e43fb1ee-2526-4b3a-8348-2f88c2db4a1c",
   "metadata": {},
   "outputs": [
    {
     "name": "stdout",
     "output_type": "stream",
     "text": [
      "\n",
      " New row appended successfully!\n"
     ]
    }
   ],
   "source": [
    "#creating new data\n",
    "new_data = {\n",
    "    'Index': [189],\n",
    "    'Customer Id': ['cust_189'],\n",
    "    'First Name': ['Olivia'],\n",
    "    'Last Name': ['Johnson'],\n",
    "    'Company': ['TechSoft'],\n",
    "    'City': ['Chicago'],\n",
    "    'Country': ['USA'],\n",
    "    'Phone 1': ['123-456-7890'],\n",
    "    'Phone 2': ['987-654-3210'],\n",
    "    'Email': ['olivia.johnson@example.com'],\n",
    "    'Subscription Date': ['2025-09-10'],\n",
    "    'Website': ['http://www.techsoft.com']\n",
    "}\n",
    "\n",
    "# create DataFrame from dictionary\n",
    "new_df = pd.DataFrame(new_data)\n",
    "\n",
    "# check if CSV already exists\n",
    "file_exists = os.path.exists(file_path)\n",
    "new_df.to_csv(file_path, mode='a', header=not file_exists, index=False)\n",
    "\n",
    "print(\"\\nNew row appended successfully!\")\n"
   ]
  },
  {
   "cell_type": "markdown",
   "id": "1723fd75-c1af-42eb-982d-0927da84fc15",
   "metadata": {},
   "source": [
    "# Display the contents of new row"
   ]
  },
  {
   "cell_type": "code",
   "execution_count": 11,
   "id": "2bda5417-ca73-4166-a56e-3a7a00a3b66f",
   "metadata": {},
   "outputs": [
    {
     "name": "stdout",
     "output_type": "stream",
     "text": [
      "\n",
      "--- Last Row After Append ---\n",
      " Index Customer Id First Name Last Name  Company    City Country      Phone 1      Phone 2                      Email Subscription Date                 Website\n",
      "   189    cust_189     Olivia   Johnson TechSoft Chicago     USA 123-456-7890 987-654-3210 olivia.johnson@example.com        2025-09-10 http://www.techsoft.com\n"
     ]
    }
   ],
   "source": [
    "# Read the CSV file again\n",
    "df = pd.read_csv(file_path)\n",
    "\n",
    "# Show the last row to confirm the new entry\n",
    "print(\"\\n--- Last Row After Append ---\")\n",
    "print(df.tail(1).to_string(index=False))  # to_string(index=False) hides the DataFrame index\n"
   ]
  },
  {
   "cell_type": "markdown",
   "id": "a7b878a5-b3d0-43c3-98ed-b4fec92aaf97",
   "metadata": {},
   "source": [
    "#  Read CSV file chunk by chunk"
   ]
  },
  {
   "cell_type": "code",
   "execution_count": 12,
   "id": "63b668af-e9f4-434b-9659-9c2c2cc18828",
   "metadata": {},
   "outputs": [
    {
     "name": "stdout",
     "output_type": "stream",
     "text": [
      "\n",
      " Reading file in chunks of 100 rows:\n",
      "\n",
      "--- Chunk 1 ---\n",
      " Index     Customer Id First Name Last Name         Company          City       Country      Phone 1      Phone 2                      Email Subscription Date                   Website\n",
      "   187 new_customer_id       John       Doe New Company Inc      New York United States 555-123-4567 555-987-6543       john.doe@example.com        2023-01-01 http://www.newcompany.com\n",
      "   999              28      50000   1750.25             NaN           NaN           NaN          NaN          NaN                        NaN               NaN                       NaN\n",
      "   188        cust_188       Emma    Wilson     Future Tech San Francisco           USA 222-333-4444 555-666-7777    emma.wilson@example.com        2025-09-10 http://www.futuretech.com\n",
      "   189        cust_189     Olivia   Johnson        TechSoft       Chicago           USA 123-456-7890 987-654-3210 olivia.johnson@example.com        2025-09-10   http://www.techsoft.com\n",
      "   189        cust_189     Olivia   Johnson        TechSoft       Chicago           USA 123-456-7890 987-654-3210 olivia.johnson@example.com        2025-09-10   http://www.techsoft.com\n"
     ]
    }
   ],
   "source": [
    "print(\"\\nReading file in chunks of 100 rows:\")\n",
    "\n",
    "chunk_size = 100   # number of rows per chunk\n",
    "\n",
    "# Read the CSV in chunks\n",
    "for i, chunk in enumerate(pd.read_csv(file_path, chunksize=chunk_size)):\n",
    "    print(f\"\\n--- Chunk {i+1} ---\")\n",
    "    # Display the chunk without showing the index\n",
    "    print(chunk.to_string(index=False))\n"
   ]
  },
  {
   "cell_type": "code",
   "execution_count": null,
   "id": "4c150424-85d4-476a-a273-676d28f6ffac",
   "metadata": {},
   "outputs": [],
   "source": []
  }
 ],
 "metadata": {
  "kernelspec": {
   "display_name": "Python 3 (ipykernel)",
   "language": "python",
   "name": "python3"
  },
  "language_info": {
   "codemirror_mode": {
    "name": "ipython",
    "version": 3
   },
   "file_extension": ".py",
   "mimetype": "text/x-python",
   "name": "python",
   "nbconvert_exporter": "python",
   "pygments_lexer": "ipython3",
   "version": "3.13.5"
  }
 },
 "nbformat": 4,
 "nbformat_minor": 5
}
