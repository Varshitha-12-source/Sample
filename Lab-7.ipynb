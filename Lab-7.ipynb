{
 "cells": [
  {
   "cell_type": "markdown",
   "id": "16b759bb-5343-4d7b-93c6-7797cb41d715",
   "metadata": {},
   "source": [
    "# Functions in python"
   ]
  },
  {
   "cell_type": "code",
   "execution_count": 4,
   "id": "0cc0e481-adc6-463c-9f92-97c1ce7b9417",
   "metadata": {},
   "outputs": [
    {
     "data": {
      "text/plain": [
       "24"
      ]
     },
     "execution_count": 4,
     "metadata": {},
     "output_type": "execute_result"
    }
   ],
   "source": [
    "def double(x):\n",
    "    return x*2\n",
    "double(12)\n"
   ]
  },
  {
   "cell_type": "code",
   "execution_count": 5,
   "id": "f44d510c-2537-4c69-a77c-1ebefdc0c281",
   "metadata": {},
   "outputs": [
    {
     "data": {
      "text/plain": [
       "4"
      ]
     },
     "execution_count": 5,
     "metadata": {},
     "output_type": "execute_result"
    }
   ],
   "source": [
    "def add(x,y):\n",
    "    return x+y\n",
    "add(1,3)   "
   ]
  },
  {
   "cell_type": "code",
   "execution_count": 7,
   "id": "07097c15-9e3f-4fa7-a4b1-63626955deae",
   "metadata": {},
   "outputs": [
    {
     "data": {
      "text/plain": [
       "34"
      ]
     },
     "execution_count": 7,
     "metadata": {},
     "output_type": "execute_result"
    }
   ],
   "source": [
    "def mx(x,y):\n",
    "    if x>y:\n",
    "        return x\n",
    "    else:\n",
    "        return y\n",
    "mx(19,34)"
   ]
  },
  {
   "cell_type": "code",
   "execution_count": 8,
   "id": "f558cdd7-cd53-4074-8362-16e42f54d850",
   "metadata": {},
   "outputs": [
    {
     "data": {
      "text/plain": [
       "<function __main__.<lambda>(x)>"
      ]
     },
     "execution_count": 8,
     "metadata": {},
     "output_type": "execute_result"
    }
   ],
   "source": [
    "lambda x:x*2"
   ]
  },
  {
   "cell_type": "code",
   "execution_count": 9,
   "id": "e4aebb4e-1d03-4da0-b45b-06d48f906d03",
   "metadata": {},
   "outputs": [
    {
     "data": {
      "text/plain": [
       "<function __main__.<lambda>(x, y)>"
      ]
     },
     "execution_count": 9,
     "metadata": {},
     "output_type": "execute_result"
    }
   ],
   "source": [
    "lambda x,y:x+y"
   ]
  },
  {
   "cell_type": "code",
   "execution_count": 2,
   "id": "0608474c-d97f-40c2-96a8-9ff8d8309835",
   "metadata": {},
   "outputs": [
    {
     "name": "stdout",
     "output_type": "stream",
     "text": [
      "10\n",
      "12\n",
      "9\n",
      "1\n",
      "2\n"
     ]
    }
   ],
   "source": [
    "list1=[10,12,9,1,2]\n",
    "for i in range(len(list1)):\n",
    "    print(list1[i])"
   ]
  },
  {
   "cell_type": "code",
   "execution_count": 10,
   "id": "98de3e5a-c7ae-4ae1-ad66-ddf0ba792a35",
   "metadata": {},
   "outputs": [
    {
     "ename": "TypeError",
     "evalue": "'int' object is not iterable",
     "output_type": "error",
     "traceback": [
      "\u001b[0;31m---------------------------------------------------------------------------\u001b[0m",
      "\u001b[0;31mTypeError\u001b[0m                                 Traceback (most recent call last)",
      "Cell \u001b[0;32mIn[10], line 2\u001b[0m\n\u001b[1;32m      1\u001b[0m n\u001b[38;5;241m=\u001b[39m\u001b[38;5;241m12345\u001b[39m\n\u001b[0;32m----> 2\u001b[0m \u001b[38;5;28;01mfor\u001b[39;00m i \u001b[38;5;129;01min\u001b[39;00m n:\n\u001b[1;32m      3\u001b[0m     \u001b[38;5;28mprint\u001b[39m(n)\n",
      "\u001b[0;31mTypeError\u001b[0m: 'int' object is not iterable"
     ]
    }
   ],
   "source": [
    "n=12345 #error int object not iterable\n",
    "for i in n:\n",
    "    print(n)"
   ]
  },
  {
   "cell_type": "code",
   "execution_count": 14,
   "id": "a42541c2-d041-469b-806d-3b9bbc6699ea",
   "metadata": {},
   "outputs": [
    {
     "name": "stdout",
     "output_type": "stream",
     "text": [
      "1\n",
      "2\n",
      "3\n",
      "3\n",
      "3\n",
      "3\n",
      "4\n",
      "4\n",
      "5\n",
      "4\n"
     ]
    }
   ],
   "source": [
    "n='1233334454'#convert to string\n",
    "for i in n:\n",
    "    print(i)"
   ]
  },
  {
   "cell_type": "code",
   "execution_count": 16,
   "id": "6f7ba372-cbeb-47b9-b8e8-ed3d2232c6cd",
   "metadata": {},
   "outputs": [
    {
     "name": "stdout",
     "output_type": "stream",
     "text": [
      "[1, 2, 3, 4, 5]\n"
     ]
    }
   ],
   "source": [
    "c=12345#output will be list\n",
    "digits=[int(d) for d in str(c)]\n",
    "print(digits)"
   ]
  },
  {
   "cell_type": "code",
   "execution_count": 17,
   "id": "28cee7aa-5c12-4b1e-9a26-94d2772558b5",
   "metadata": {},
   "outputs": [
    {
     "name": "stdout",
     "output_type": "stream",
     "text": [
      "['__add__', '__class__', '__class_getitem__', '__contains__', '__delattr__', '__delitem__', '__dir__', '__doc__', '__eq__', '__format__', '__ge__', '__getattribute__', '__getitem__', '__getstate__', '__gt__', '__hash__', '__iadd__', '__imul__', '__init__', '__init_subclass__', '__iter__', '__le__', '__len__', '__lt__', '__mul__', '__ne__', '__new__', '__reduce__', '__reduce_ex__', '__repr__', '__reversed__', '__rmul__', '__setattr__', '__setitem__', '__sizeof__', '__str__', '__subclasshook__', 'append', 'clear', 'copy', 'count', 'extend', 'index', 'insert', 'pop', 'remove', 'reverse', 'sort']\n"
     ]
    }
   ],
   "source": [
    "print(dir(list1))"
   ]
  },
  {
   "cell_type": "code",
   "execution_count": 25,
   "id": "5d5eb7ff-b921-4ac2-8b2d-0248ee9f0900",
   "metadata": {},
   "outputs": [
    {
     "name": "stdout",
     "output_type": "stream",
     "text": [
      "<class 'list_iterator'>\n",
      "<class 'list'>\n"
     ]
    }
   ],
   "source": [
    "names=['Ema','Tom','Hari']\n",
    "looper=names.__iter__()#iterable through list,iter don't go backwards\n",
    "print(type(looper))\n",
    "print(type(names))"
   ]
  },
  {
   "cell_type": "code",
   "execution_count": 30,
   "id": "e05a03e5-499f-44f3-b30d-797c3ef429fd",
   "metadata": {},
   "outputs": [
    {
     "name": "stdout",
     "output_type": "stream",
     "text": [
      "Ema\n",
      "Tom\n",
      "Hari\n"
     ]
    },
    {
     "ename": "StopIteration",
     "evalue": "",
     "output_type": "error",
     "traceback": [
      "\u001b[0;31m---------------------------------------------------------------------------\u001b[0m",
      "\u001b[0;31mStopIteration\u001b[0m                             Traceback (most recent call last)",
      "Cell \u001b[0;32mIn[30], line 6\u001b[0m\n\u001b[1;32m      4\u001b[0m \u001b[38;5;28mprint\u001b[39m(\u001b[38;5;28mnext\u001b[39m(looper))\n\u001b[1;32m      5\u001b[0m \u001b[38;5;28mprint\u001b[39m(\u001b[38;5;28mnext\u001b[39m(looper))\n\u001b[0;32m----> 6\u001b[0m \u001b[38;5;28mprint\u001b[39m(\u001b[38;5;28mnext\u001b[39m(looper))\n",
      "\u001b[0;31mStopIteration\u001b[0m: "
     ]
    }
   ],
   "source": [
    "names=['Ema','Tom','Hari']\n",
    "looper=iter(names)#next function\n",
    "print(next(looper))#shifting moves to next element\n",
    "print(next(looper))\n",
    "print(next(looper))\n",
    "print(next(looper))#error stopiteration\n",
    "\n"
   ]
  },
  {
   "cell_type": "code",
   "execution_count": 37,
   "id": "7f9713a9-c050-4f44-90b5-4182c17832c5",
   "metadata": {},
   "outputs": [
    {
     "name": "stdout",
     "output_type": "stream",
     "text": [
      "Ema\n",
      "Tom\n",
      "Hari\n"
     ]
    }
   ],
   "source": [
    "\n",
    "looper=iter(names)\n",
    "while True:\n",
    "    try:\n",
    "        name=next(looper)\n",
    "        print(name)\n",
    "    except StopIteration:\n",
    "        break"
   ]
  },
  {
   "cell_type": "code",
   "execution_count": 42,
   "id": "f92d5e5a-49d5-43d6-b8f4-aa9a259cd2aa",
   "metadata": {},
   "outputs": [
    {
     "name": "stdout",
     "output_type": "stream",
     "text": [
      "[1, 4, 9, 16, 25]\n"
     ]
    }
   ],
   "source": [
    "def square (x):\n",
    "    return x*x\n",
    "numbers=[1,2,3,4,5]\n",
    "print(list(map(square,numbers)))#square-func,numbers-list,map func takes every element in list and  do square and stores in list"
   ]
  },
  {
   "cell_type": "code",
   "execution_count": 52,
   "id": "93864785-06fd-418c-8c0d-f2c78ff0576e",
   "metadata": {},
   "outputs": [
    {
     "name": "stdout",
     "output_type": "stream",
     "text": [
      "[3, 6, 9, 12, 15]\n"
     ]
    }
   ],
   "source": [
    "a=lambda x:x*3\n",
    "n=[1,2,3,4,5]\n",
    "print(list(map(a,n)))#using lambda "
   ]
  },
  {
   "cell_type": "code",
   "execution_count": 53,
   "id": "65bc73ef-1e78-4ea4-a528-70b6a02eac50",
   "metadata": {},
   "outputs": [
    {
     "name": "stdout",
     "output_type": "stream",
     "text": [
      "[4, 8, 12, 16, 20]\n"
     ]
    }
   ],
   "source": [
    "print(list(map(lambda x:x*4,numbers)))"
   ]
  },
  {
   "cell_type": "code",
   "execution_count": 56,
   "id": "7fa346d0-985f-4ea8-abf5-f57d8edf8ace",
   "metadata": {},
   "outputs": [
    {
     "name": "stdout",
     "output_type": "stream",
     "text": [
      "[4, 5]\n"
     ]
    }
   ],
   "source": [
    "print(list(filter(lambda x:x>3,numbers)))#acts as filter only allows which satisfies the given condition"
   ]
  },
  {
   "cell_type": "code",
   "execution_count": 57,
   "id": "6140e6d3-2cff-47f3-b012-49aa8343257b",
   "metadata": {},
   "outputs": [
    {
     "name": "stdout",
     "output_type": "stream",
     "text": [
      "[1, 4, 9, 16, 25]\n",
      "[4, 5]\n"
     ]
    }
   ],
   "source": [
    "print(list(map(square,numbers)))\n",
    "print(list(filter(lambda x:x>3,numbers)))"
   ]
  },
  {
   "cell_type": "code",
   "execution_count": 60,
   "id": "da510e76-ec1b-49ad-a886-dcdd651479ba",
   "metadata": {},
   "outputs": [
    {
     "name": "stdout",
     "output_type": "stream",
     "text": [
      "['priya', 'arun', 'kishore', 'kumar']\n",
      "['PRIYA', 'ARUN', 'KISHORE', 'KUMAR']\n"
     ]
    }
   ],
   "source": [
    "list_names=['Priya','Arun','Kishore','Kumar']\n",
    "print(list(map(lambda x:x.lower(),list_names)))\n",
    "print(list(map(lambda x:x.upper(),list_names)))\n"
   ]
  },
  {
   "cell_type": "code",
   "execution_count": 61,
   "id": "a8935466-113f-44be-b047-4a173e7055d7",
   "metadata": {},
   "outputs": [
    {
     "name": "stdout",
     "output_type": "stream",
     "text": [
      "15\n"
     ]
    }
   ],
   "source": [
    "from functools import reduce\n",
    "print(reduce(lambda x,y:x+y,numbers))#cumulatively holding value "
   ]
  },
  {
   "cell_type": "code",
   "execution_count": null,
   "id": "55be13be-8f24-472a-8467-813155c42e17",
   "metadata": {},
   "outputs": [],
   "source": [
    "map,filter,reduce-one line theme"
   ]
  }
 ],
 "metadata": {
  "kernelspec": {
   "display_name": "Python 3 (ipykernel)",
   "language": "python",
   "name": "python3"
  },
  "language_info": {
   "codemirror_mode": {
    "name": "ipython",
    "version": 3
   },
   "file_extension": ".py",
   "mimetype": "text/x-python",
   "name": "python",
   "nbconvert_exporter": "python",
   "pygments_lexer": "ipython3",
   "version": "3.12.4"
  }
 },
 "nbformat": 4,
 "nbformat_minor": 5
}
