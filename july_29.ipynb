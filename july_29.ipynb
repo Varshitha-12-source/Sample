{
 "cells": [
  {
   "cell_type": "code",
   "execution_count": 2,
   "id": "d6f80d79-1960-485f-8829-1a2e9c8cfe80",
   "metadata": {},
   "outputs": [
    {
     "data": {
      "text/plain": [
       "[1, 3]"
      ]
     },
     "execution_count": 2,
     "metadata": {},
     "output_type": "execute_result"
    }
   ],
   "source": [
    "list=[2,4,7,1,3]\n",
    "list[-2:]#last two"
   ]
  },
  {
   "cell_type": "code",
   "execution_count": 4,
   "id": "477aec54-75d3-47f5-b5f5-835282b3ff96",
   "metadata": {},
   "outputs": [
    {
     "data": {
      "text/plain": [
       "[2, 4]"
      ]
     },
     "execution_count": 4,
     "metadata": {},
     "output_type": "execute_result"
    }
   ],
   "source": [
    "list[:2]#first two"
   ]
  },
  {
   "cell_type": "code",
   "execution_count": 5,
   "id": "c863c3a8-3d16-4564-8ad0-8b2ff234c47b",
   "metadata": {},
   "outputs": [
    {
     "data": {
      "text/plain": [
       "[2, 4, 7]"
      ]
     },
     "execution_count": 5,
     "metadata": {},
     "output_type": "execute_result"
    }
   ],
   "source": [
    "list[:3]#first three"
   ]
  },
  {
   "cell_type": "code",
   "execution_count": 7,
   "id": "dc691874-eb23-44db-a8c5-bd407dca6e75",
   "metadata": {},
   "outputs": [
    {
     "data": {
      "text/plain": [
       "[7, 1, 3]"
      ]
     },
     "execution_count": 7,
     "metadata": {},
     "output_type": "execute_result"
    }
   ],
   "source": [
    "list[-3:]#last three"
   ]
  },
  {
   "cell_type": "code",
   "execution_count": 8,
   "id": "a0956265-d12e-4114-b01d-7a67a1f85689",
   "metadata": {},
   "outputs": [
    {
     "name": "stdout",
     "output_type": "stream",
     "text": [
      "['cake', 'pizza', 'stew']\n"
     ]
    }
   ],
   "source": [
    "my_fav=['cake','pizza','stew']#Original list\n",
    "print(my_fav)"
   ]
  },
  {
   "cell_type": "code",
   "execution_count": 30,
   "id": "7d80b23d-106c-4196-afd1-fdf2a6a7e86a",
   "metadata": {},
   "outputs": [
    {
     "name": "stdout",
     "output_type": "stream",
     "text": [
      "New list =  ['cake', 'pizza', 'stew', 'porridge', 'porridge', 'porridge']\n",
      "Original list =  ['cake', 'pizza', 'stew', 'porridge', 'porridge', 'porridge']\n"
     ]
    }
   ],
   "source": [
    "friend_fav=my_fav #copy by reference\n",
    "friend_fav.append('porridge')\n",
    "print(\"New list = \",friend_fav)\n",
    "print(\"Original list = \",my_fav)#Original list also changed"
   ]
  },
  {
   "cell_type": "code",
   "execution_count": 32,
   "id": "67f1ddd3-ae8f-4479-931b-bc26be67dd25",
   "metadata": {},
   "outputs": [
    {
     "name": "stdout",
     "output_type": "stream",
     "text": [
      "New list: ['cake', 'pizza', 'stew', 'porridge', 'porridge', 'porridge', 'Rice']\n",
      "original list: ['cake', 'pizza', 'stew', 'porridge', 'porridge', 'porridge']\n"
     ]
    }
   ],
   "source": [
    "ff2=my_fav.copy()#copy by value\n",
    "ff2.append('Rice')\n",
    "print(\"New list:\",ff2)#only the new list changed not the original list\n",
    "print(\"original list:\",my_fav)"
   ]
  },
  {
   "cell_type": "code",
   "execution_count": 18,
   "id": "cd70375b-6571-4d19-b531-80cf8ed3c95a",
   "metadata": {},
   "outputs": [
    {
     "name": "stdout",
     "output_type": "stream",
     "text": [
      "Cake\n",
      "Pizza\n",
      "Stew\n",
      "Porridge\n"
     ]
    }
   ],
   "source": [
    "for i in my_fav[:]:#loop through lists\n",
    "    print(i.title())"
   ]
  },
  {
   "cell_type": "code",
   "execution_count": 22,
   "id": "c711b66a-2083-4d19-a742-d91fd5c65b46",
   "metadata": {},
   "outputs": [
    {
     "name": "stdout",
     "output_type": "stream",
     "text": [
      "100\n",
      "(500, 100)\n"
     ]
    }
   ],
   "source": [
    "tuple1=(500,100)\n",
    "print(tuple1[1])\n",
    "print(tuple1[:])"
   ]
  },
  {
   "cell_type": "code",
   "execution_count": 23,
   "id": "aa2aa33c-d938-45e4-9a0d-738f8188a36e",
   "metadata": {},
   "outputs": [
    {
     "name": "stdout",
     "output_type": "stream",
     "text": [
      "500\n",
      "100\n"
     ]
    }
   ],
   "source": [
    "for i in tuple1:#loop through tuple\n",
    "    print(i)"
   ]
  },
  {
   "cell_type": "code",
   "execution_count": 33,
   "id": "100fe27e-c202-47dc-afd5-2a08fc8a5acf",
   "metadata": {},
   "outputs": [
    {
     "ename": "TypeError",
     "evalue": "'tuple' object does not support item assignment",
     "output_type": "error",
     "traceback": [
      "\u001b[31m---------------------------------------------------------------------------\u001b[39m",
      "\u001b[31mTypeError\u001b[39m                                 Traceback (most recent call last)",
      "\u001b[36mCell\u001b[39m\u001b[36m \u001b[39m\u001b[32mIn[33]\u001b[39m\u001b[32m, line 1\u001b[39m\n\u001b[32m----> \u001b[39m\u001b[32m1\u001b[39m \u001b[43mtuple1\u001b[49m\u001b[43m[\u001b[49m\u001b[32;43m1\u001b[39;49m\u001b[43m]\u001b[49m=\u001b[32m50\u001b[39m\n\u001b[32m      2\u001b[39m \u001b[38;5;28mprint\u001b[39m(tuple1[\u001b[32m1\u001b[39m])\u001b[38;5;66;03m#error because we cannot add element to tuple\u001b[39;00m\n",
      "\u001b[31mTypeError\u001b[39m: 'tuple' object does not support item assignment"
     ]
    }
   ],
   "source": [
    "tuple1[1]=50\n",
    "print(tuple1[1])#error because we cannot add element to tuples"
   ]
  },
  {
   "cell_type": "code",
   "execution_count": 26,
   "id": "d7d0c718-435c-4478-ba7b-c9281c4635f0",
   "metadata": {},
   "outputs": [
    {
     "name": "stdout",
     "output_type": "stream",
     "text": [
      "{'reg_no': '22mid0100', 'program': 'MID', 'cgpa': 9.3, 'attendance': 76}\n"
     ]
    }
   ],
   "source": [
    "stu_1={'reg_no':'22mid0100',\n",
    "       'program':'MID',\n",
    "        'cgpa':9.3,\n",
    "       'attendance':76\n",
    "      }\n",
    "print(stu_1)"
   ]
  },
  {
   "cell_type": "code",
   "execution_count": 38,
   "id": "01f7c664-2df3-46fa-8895-12dc8f7a7152",
   "metadata": {},
   "outputs": [
    {
     "name": "stdout",
     "output_type": "stream",
     "text": [
      "76\n",
      "MID\n",
      "9.3\n",
      "22mid0100\n"
     ]
    }
   ],
   "source": [
    "print(stu_1[\"attendance\"] )#accessing the value by key \n",
    "print(stu_1[\"program\"])\n",
    "print(stu_1[\"cgpa\"])\n",
    "print(stu_1[\"reg_no\"])"
   ]
  },
  {
   "cell_type": "code",
   "execution_count": null,
   "id": "281d513c-0a2c-4949-9e51-3ccc788d1227",
   "metadata": {},
   "outputs": [],
   "source": []
  },
  {
   "cell_type": "code",
   "execution_count": null,
   "id": "d59b4e58-82a0-4889-ba4d-177e6eff021e",
   "metadata": {},
   "outputs": [],
   "source": []
  }
 ],
 "metadata": {
  "kernelspec": {
   "display_name": "Python 3 (ipykernel)",
   "language": "python",
   "name": "python3"
  },
  "language_info": {
   "codemirror_mode": {
    "name": "ipython",
    "version": 3
   },
   "file_extension": ".py",
   "mimetype": "text/x-python",
   "name": "python",
   "nbconvert_exporter": "python",
   "pygments_lexer": "ipython3",
   "version": "3.13.5"
  }
 },
 "nbformat": 4,
 "nbformat_minor": 5
}
