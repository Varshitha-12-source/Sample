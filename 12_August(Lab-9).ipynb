{
 "cells": [
  {
   "cell_type": "markdown",
   "id": "79d7e5e5-94c9-4787-a64f-00d7cd10dad8",
   "metadata": {},
   "source": [
    "# Classes,Objects and Inheritance\n",
    "# Course code:CSI3007\n",
    "# Lab no:9\n",
    "# Name:Varshitha V\n",
    "# Reg.no:22MID0105\n",
    "# Date:12/8/25"
   ]
  },
  {
   "cell_type": "code",
   "execution_count": 21,
   "id": "3a8cfba4-754f-4fcb-86b6-3fa718b5e12a",
   "metadata": {},
   "outputs": [],
   "source": [
    "class Emp:#creating class\n",
    "    no_of_employees=0\n",
    "    raise_amount=1.04\n",
    "    def __init__(self,first,last,pay):\n",
    "        self.first=first #instance variable\n",
    "        self.last=last#instance variable\n",
    "        self.pay=pay#instance variable\n",
    "        Emp.no_of_employees+=1\n",
    "        print(f\" Name is {self.first} {self.last} and Pay is {self.pay}\")\n",
    "    def apply_raise(self):#method in class\n",
    "        self.pay=int(self.pay*Emp.raise_amount)\n",
    "       \n",
    "\n"
   ]
  },
  {
   "cell_type": "code",
   "execution_count": 22,
   "id": "16a6193e-156b-43ad-8190-31120424746e",
   "metadata": {},
   "outputs": [
    {
     "name": "stdout",
     "output_type": "stream",
     "text": [
      " Name is Raj Kumar and Pay is 450000\n",
      "<__main__.Emp object at 0x0000018AD6C7DBE0>\n"
     ]
    }
   ],
   "source": [
    "e1=Emp(\"Raj\",\"Kumar\",450000)#creating object 1\n",
    "e1.apply_raise()#calling the method in class\n",
    "print(e1)"
   ]
  },
  {
   "cell_type": "code",
   "execution_count": 23,
   "id": "8142d7ae-f3f4-4efc-b490-2035ef02751a",
   "metadata": {},
   "outputs": [
    {
     "name": "stdout",
     "output_type": "stream",
     "text": [
      " Name is priya ram and Pay is 6700000\n",
      "1.04\n"
     ]
    }
   ],
   "source": [
    "e2=Emp(\"priya\",\"ram\",6700000)#creating object 2\n",
    "print(e2.raise_amount)#calling the method in class"
   ]
  },
  {
   "cell_type": "code",
   "execution_count": 24,
   "id": "de2ec26b-436f-4c3b-ab36-f534aa48e972",
   "metadata": {},
   "outputs": [
    {
     "name": "stdout",
     "output_type": "stream",
     "text": [
      "9.5\n"
     ]
    }
   ],
   "source": [
    "e2.raise_amount=9.5#changing the raise amount value\n",
    "print(e2.raise_amount)"
   ]
  },
  {
   "cell_type": "code",
   "execution_count": 25,
   "id": "0212c2fa-c190-470b-b697-7f25b329b2ba",
   "metadata": {},
   "outputs": [
    {
     "name": "stdout",
     "output_type": "stream",
     "text": [
      "468000\n"
     ]
    }
   ],
   "source": [
    "print(e1.pay)"
   ]
  },
  {
   "cell_type": "code",
   "execution_count": 26,
   "id": "5c81c6ac-853f-44d4-8428-1e05f1c55993",
   "metadata": {},
   "outputs": [
    {
     "name": "stdout",
     "output_type": "stream",
     "text": [
      "1.04\n"
     ]
    }
   ],
   "source": [
    "print(e1.raise_amount)"
   ]
  },
  {
   "cell_type": "code",
   "execution_count": 27,
   "id": "0286153d-83e6-459d-bc1b-87a298916b3a",
   "metadata": {},
   "outputs": [
    {
     "name": "stdout",
     "output_type": "stream",
     "text": [
      "{'first': 'Raj', 'last': 'Kumar', 'pay': 468000}\n"
     ]
    }
   ],
   "source": [
    "print(e1.__dict__)#namespace dont have the raise amount"
   ]
  },
  {
   "cell_type": "code",
   "execution_count": 28,
   "id": "b52c6717-903f-41a0-8906-53530f6922dd",
   "metadata": {},
   "outputs": [
    {
     "name": "stdout",
     "output_type": "stream",
     "text": [
      "{'__module__': '__main__', '__firstlineno__': 1, 'no_of_employees': 2, 'raise_amount': 1.04, '__init__': <function Emp.__init__ at 0x0000018AD7246020>, 'apply_raise': <function Emp.apply_raise at 0x0000018AD7244F40>, '__static_attributes__': ('first', 'last', 'pay'), '__dict__': <attribute '__dict__' of 'Emp' objects>, '__weakref__': <attribute '__weakref__' of 'Emp' objects>, '__doc__': None}\n"
     ]
    }
   ],
   "source": [
    "print(Emp.__dict__)#namespace "
   ]
  },
  {
   "cell_type": "code",
   "execution_count": 29,
   "id": "5771fd36-3e18-4996-ab2c-2652ef1f4f50",
   "metadata": {},
   "outputs": [
    {
     "name": "stdout",
     "output_type": "stream",
     "text": [
      "{'first': 'Raj', 'last': 'Kumar', 'pay': 468000, 'raise_amount': 2.5}\n"
     ]
    }
   ],
   "source": [
    "e1.raise_amount=2.5\n",
    "print(e1.__dict__)#now it has raise amount after accesssing it by using e1"
   ]
  },
  {
   "cell_type": "code",
   "execution_count": 30,
   "id": "2eeb8bba-3df6-4703-b68c-a5a7008788c5",
   "metadata": {},
   "outputs": [],
   "source": [
    "e2.pay=3450000\n",
    "e2.apply_raise()"
   ]
  },
  {
   "cell_type": "code",
   "execution_count": 31,
   "id": "a690197d-b169-41d5-947d-480f089a260f",
   "metadata": {},
   "outputs": [],
   "source": [
    "e2.apply_raise()"
   ]
  },
  {
   "cell_type": "code",
   "execution_count": 32,
   "id": "2f8bef23-4a1d-487f-acd4-2e6da5bfbff9",
   "metadata": {},
   "outputs": [
    {
     "name": "stdout",
     "output_type": "stream",
     "text": [
      "3731520\n"
     ]
    }
   ],
   "source": [
    "print(e2.pay)# the payment amount is increased"
   ]
  },
  {
   "cell_type": "code",
   "execution_count": 33,
   "id": "ae89c9bf-6934-4d82-908d-6749318fbb11",
   "metadata": {},
   "outputs": [
    {
     "name": "stdout",
     "output_type": "stream",
     "text": [
      "2\n"
     ]
    }
   ],
   "source": [
    "print(Emp.no_of_employees)"
   ]
  },
  {
   "cell_type": "code",
   "execution_count": 34,
   "id": "6bb6903d-3b69-4757-a69c-b48e45cf789e",
   "metadata": {},
   "outputs": [
    {
     "name": "stdout",
     "output_type": "stream",
     "text": [
      "hello from parent\n",
      "from child class\n"
     ]
    }
   ],
   "source": [
    "class Parent:#single inheritance\n",
    "    def greet(self):\n",
    "        print(\"hello from parent\") \n",
    "class Child(Parent):\n",
    "    def greet(self):\n",
    "        super().greet()\n",
    "        print(\"from child class\")\n",
    "\n",
    "obj=Child()\n",
    "obj.greet()\n"
   ]
  },
  {
   "cell_type": "code",
   "execution_count": 35,
   "id": "60febad0-5c24-43db-948d-81aab468f0c3",
   "metadata": {},
   "outputs": [
    {
     "name": "stdout",
     "output_type": "stream",
     "text": [
      " Name is moorthy ram and Pay is 34000\n",
      "<__main__.Emp2 object at 0x0000018AD6C7D6A0>\n",
      "34000\n",
      "35360\n"
     ]
    }
   ],
   "source": [
    "class Emp2(Emp): #inherits for employee class\n",
    "    pass\n",
    "obj1=Emp2(\"moorthy\",\"ram\",34000)\n",
    "print(obj1)\n",
    "print(obj1.pay)\n",
    "obj1.apply_raise()\n",
    "print(obj1.pay)\n",
    "\n",
    "    "
   ]
  },
  {
   "cell_type": "code",
   "execution_count": 36,
   "id": "5cbefd9a-6e6e-4fe0-b4e5-6b692b89b610",
   "metadata": {},
   "outputs": [
    {
     "name": "stdout",
     "output_type": "stream",
     "text": [
      "Method A\n",
      "Method B\n"
     ]
    }
   ],
   "source": [
    "class A:#mutliple inheritance\n",
    "    def method_a(self):\n",
    "        print(\"Method A\")\n",
    "class B:\n",
    "    def method_b(self):\n",
    "        print(\"Method B\")\n",
    "class C(A,B):\n",
    "    pass\n",
    "obj=C()\n",
    "obj.method_a()\n",
    "obj.method_b()"
   ]
  },
  {
   "cell_type": "code",
   "execution_count": 37,
   "id": "96777ce1-78f6-4d65-8f8e-d81f82d889bf",
   "metadata": {},
   "outputs": [],
   "source": [
    "class Contact:# creating class \n",
    "    all_contacts=[]\n",
    "    def __init__(self,name,email):\n",
    "        self.name=name\n",
    "        self.email=email\n",
    "        Contact.all_contacts.append(self)\n",
    "class Supplier(Contact):\n",
    "    def order(self,order):\n",
    "        print(\"send\" \"{} order to {}\".format(order,self.name))"
   ]
  },
  {
   "cell_type": "code",
   "execution_count": 38,
   "id": "4b46cfe6-0358-44e0-843c-5c5c23714cbe",
   "metadata": {},
   "outputs": [
    {
     "name": "stdout",
     "output_type": "stream",
     "text": [
      "Some Body somebody@gmail.com supplier supplier@gmail.com\n"
     ]
    }
   ],
   "source": [
    "c=Contact(\"Some Body\",\"somebody@gmail.com\")\n",
    "s=Supplier(\"supplier\",\"supplier@gmail.com\")\n",
    "print(c.name,c.email,s.name,s.email)\n"
   ]
  },
  {
   "cell_type": "code",
   "execution_count": 43,
   "id": "0b0ecfb4-1fa4-461d-a54b-d25d254921bc",
   "metadata": {},
   "outputs": [],
   "source": [
    "class ContactList(list):#return all contacts that contain the search value in thier name\n",
    "    def search(self,name):\n",
    "        matching_contacts=[]# List to store matching contacts\n",
    "        for contact in self:\n",
    "            if name in contact.name:\n",
    "                 matching_contacts.append(contact)\n",
    "        return matching_contacts\n"
   ]
  },
  {
   "cell_type": "code",
   "execution_count": 48,
   "id": "f6377eb4-dd8e-4892-9d31-13299f1f8aa6",
   "metadata": {},
   "outputs": [
    {
     "data": {
      "text/plain": [
       "['Priya A', 'Priya B']"
      ]
     },
     "execution_count": 48,
     "metadata": {},
     "output_type": "execute_result"
    }
   ],
   "source": [
    "class Contact:\n",
    "    all_contacts=ContactList()\n",
    "    def __init__(self,name,email):\n",
    "        self.name=name\n",
    "        self.email=email\n",
    "        self.all_contacts.append(self)\n",
    "c1=Contact(\"Priya A\",\"priyaa@example.net\")\n",
    "c2=Contact(\"Priya B\",\"priyab@example.net\")\n",
    "c3=Contact(\"Jenna C\",\"jennac@example.net\")\n",
    "[c.name for c in Contact.all_contacts.search('Priya')]# Search for contacts with 'Priya' in their name and print their names\n"
   ]
  },
  {
   "cell_type": "code",
   "execution_count": null,
   "id": "c79995f3-492a-4c35-a70d-e3f37f4b5fd1",
   "metadata": {},
   "outputs": [],
   "source": []
  }
 ],
 "metadata": {
  "kernelspec": {
   "display_name": "Python 3 (ipykernel)",
   "language": "python",
   "name": "python3"
  },
  "language_info": {
   "codemirror_mode": {
    "name": "ipython",
    "version": 3
   },
   "file_extension": ".py",
   "mimetype": "text/x-python",
   "name": "python",
   "nbconvert_exporter": "python",
   "pygments_lexer": "ipython3",
   "version": "3.13.5"
  }
 },
 "nbformat": 4,
 "nbformat_minor": 5
}
