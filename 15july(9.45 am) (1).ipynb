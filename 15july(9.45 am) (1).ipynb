{
 "cells": [
  {
   "cell_type": "code",
   "execution_count": 7,
   "id": "951e3e12-26bb-4be3-8bc2-acc468bfa0b2",
   "metadata": {},
   "outputs": [
    {
     "name": "stdout",
     "output_type": "stream",
     "text": [
      "Varshi\n"
     ]
    }
   ],
   "source": [
    "name=\"varshi\"\n",
    "print(name.title())"
   ]
  },
  {
   "cell_type": "code",
   "execution_count": 6,
   "id": "15bac4be-12e8-48a3-86e1-ce0f277f3bb4",
   "metadata": {},
   "outputs": [
    {
     "name": "stdout",
     "output_type": "stream",
     "text": [
      "HELLO VARSHITHAVENKATESAN :)\n"
     ]
    }
   ],
   "source": [
    "firstname=\"Varshitha\"\n",
    "lastname=\"Venkatesan\"\n",
    "print(f\"HELLO {firstname.upper()}{lastname.upper()} :)\")"
   ]
  },
  {
   "cell_type": "code",
   "execution_count": 9,
   "id": "5ebb48c5-726c-4e31-bddb-9367543ed745",
   "metadata": {},
   "outputs": [
    {
     "name": "stdout",
     "output_type": "stream",
     "text": [
      "['Hi', ',This', 'isVarshitha']\n"
     ]
    }
   ],
   "source": [
    "sent=\"Hi ,This isVarshitha\"\n",
    "print(sent.split())"
   ]
  },
  {
   "cell_type": "code",
   "execution_count": 10,
   "id": "19c65da8-0a1f-4621-8e40-5ebcaad22afe",
   "metadata": {},
   "outputs": [
    {
     "name": "stdout",
     "output_type": "stream",
     "text": [
      "Collecting jieba\n",
      "  Downloading jieba-0.42.1.tar.gz (19.2 MB)\n",
      "\u001b[2K     \u001b[38;2;114;156;31m━━━━━━━━━━━━━━━━━━━━━━━━━━━━━━━━━━━━━━━━\u001b[0m \u001b[32m19.2/19.2 MB\u001b[0m \u001b[31m9.6 MB/s\u001b[0m eta \u001b[36m0:00:00\u001b[0mm eta \u001b[36m0:00:01\u001b[0m[36m0:00:01\u001b[0m\n",
      "\u001b[?25h  Preparing metadata (setup.py) ... \u001b[?25ldone\n",
      "\u001b[?25hBuilding wheels for collected packages: jieba\n",
      "  Building wheel for jieba (setup.py) ... \u001b[?25ldone\n",
      "\u001b[?25h  Created wheel for jieba: filename=jieba-0.42.1-py3-none-any.whl size=19314459 sha256=c737fe2107f77723c2716dcc62c04a883970d351fc8b6928c495961f273c3d84\n",
      "  Stored in directory: /home/matlab/.cache/pip/wheels/08/a1/a3/5c8ac52cc2f5782ffffc34c95c57c8e5ecb3063dc69541ee7c\n",
      "Successfully built jieba\n",
      "Installing collected packages: jieba\n",
      "Successfully installed jieba-0.42.1\n"
     ]
    }
   ],
   "source": [
    "!pip install jieba"
   ]
  },
  {
   "cell_type": "code",
   "execution_count": 11,
   "id": "e4ceeb12-ab09-4be2-bbbd-7243cd14c4d5",
   "metadata": {},
   "outputs": [],
   "source": [
    "import jieba"
   ]
  },
  {
   "cell_type": "code",
   "execution_count": 39,
   "id": "9f522241-440f-4bc0-8946-eac516b301db",
   "metadata": {},
   "outputs": [],
   "source": [
    "with open('chinese.txt','r',encoding=\"utf8\") as text:\n",
    "    data=text.read()\n"
   ]
  },
  {
   "cell_type": "code",
   "execution_count": 40,
   "id": "b376a650-9bd6-4f55-85fc-b3e0bcb1b310",
   "metadata": {},
   "outputs": [
    {
     "data": {
      "text/plain": [
       "'是王明。我是学生，我是中国人。这是史密斯。史密斯是我的1 朋友，史密斯是律师。那是史密斯的妻'"
      ]
     },
     "execution_count": 40,
     "metadata": {},
     "output_type": "execute_result"
    }
   ],
   "source": [
    "data"
   ]
  },
  {
   "cell_type": "code",
   "execution_count": 42,
   "id": "e13e01f8-52af-4c88-bf4f-a500d0ad4386",
   "metadata": {},
   "outputs": [],
   "source": [
    "seg_list=jieba.cut(data,cut_all=True)"
   ]
  },
  {
   "cell_type": "code",
   "execution_count": 43,
   "id": "afe45edc-9d0f-4db5-bcfe-1eadc4caeb17",
   "metadata": {},
   "outputs": [
    {
     "data": {
      "text/plain": [
       "<generator object Tokenizer.cut at 0x7c82e47f0460>"
      ]
     },
     "execution_count": 43,
     "metadata": {},
     "output_type": "execute_result"
    }
   ],
   "source": [
    "seg_list"
   ]
  },
  {
   "cell_type": "code",
   "execution_count": 44,
   "id": "9ecb2038-1582-4333-8d3f-9dfd33cb8da2",
   "metadata": {},
   "outputs": [
    {
     "name": "stderr",
     "output_type": "stream",
     "text": [
      "Building prefix dict from the default dictionary ...\n",
      "Dumping model to file cache /tmp/jieba.cache\n",
      "Loading model cost 0.809 seconds.\n",
      "Prefix dict has been built successfully.\n"
     ]
    }
   ],
   "source": [
    "new_text=(\" \".join(seg_list))"
   ]
  },
  {
   "cell_type": "code",
   "execution_count": 45,
   "id": "8261256e-571d-4c5b-8b75-c07d16c1395b",
   "metadata": {},
   "outputs": [
    {
     "data": {
      "text/plain": [
       "'是 王明 。 我 是 学生 ， 我 是 中国 国人 。 这 是 史密斯 密斯 。 史密斯 密斯 是 我 的 1     朋友 ， 史密斯 密斯 是 律师 。 那 是 史密斯 密斯 的 妻'"
      ]
     },
     "execution_count": 45,
     "metadata": {},
     "output_type": "execute_result"
    }
   ],
   "source": [
    "new_text"
   ]
  },
  {
   "cell_type": "code",
   "execution_count": 35,
   "id": "4303a7f2-8fb2-4cfa-9e5e-b1097813d1d5",
   "metadata": {},
   "outputs": [
    {
     "name": "stdout",
     "output_type": "stream",
     "text": [
      "Requirement already satisfied: nltk in /home/software/software/lib/python3.12/site-packages (3.8.1)\n",
      "Requirement already satisfied: click in /home/software/software/lib/python3.12/site-packages (from nltk) (8.1.7)\n",
      "Requirement already satisfied: joblib in /home/software/software/lib/python3.12/site-packages (from nltk) (1.4.2)\n",
      "Requirement already satisfied: regex>=2021.8.3 in /home/software/software/lib/python3.12/site-packages (from nltk) (2023.10.3)\n",
      "Requirement already satisfied: tqdm in /home/software/software/lib/python3.12/site-packages (from nltk) (4.66.4)\n"
     ]
    }
   ],
   "source": [
    "!pip install nltk"
   ]
  },
  {
   "cell_type": "code",
   "execution_count": 18,
   "id": "cbd3c766-0f27-464a-b669-5c9852c15519",
   "metadata": {},
   "outputs": [],
   "source": [
    "from urllib import request"
   ]
  },
  {
   "cell_type": "code",
   "execution_count": 17,
   "id": "6dbe3b18-25a4-475b-814f-d3035ce3335c",
   "metadata": {},
   "outputs": [],
   "source": [
    "url=\"https://www.gutenberg.org/cache/epub/36034/pg36034.txt\""
   ]
  },
  {
   "cell_type": "code",
   "execution_count": null,
   "id": "438383f1-5d97-4622-940f-ac77474f3c76",
   "metadata": {},
   "outputs": [],
   "source": [
    "response=request.urlopen(url)"
   ]
  },
  {
   "cell_type": "code",
   "execution_count": 24,
   "id": "d8f07c5e-171e-45ac-ba78-afadba298fca",
   "metadata": {},
   "outputs": [],
   "source": [
    "raw=response.read().decode('utf8')"
   ]
  },
  {
   "cell_type": "code",
   "execution_count": 27,
   "id": "d0957222-76b7-47b6-ac72-12cfb47eba67",
   "metadata": {},
   "outputs": [
    {
     "name": "stderr",
     "output_type": "stream",
     "text": [
      "[nltk_data] Downloading package punkt to /home/matlab/nltk_data...\n",
      "[nltk_data]   Unzipping tokenizers/punkt.zip.\n"
     ]
    }
   ],
   "source": [
    "import nltk\n",
    "nltk.download('punkt')\n",
    "def tokenize(token):\n",
    "    return nltk.word_tokenize(token);\n",
    "tokenize(\"why is this not working?\");"
   ]
  },
  {
   "cell_type": "code",
   "execution_count": 28,
   "id": "50f2f9ac-9145-4c7e-87bb-03eaa423ded2",
   "metadata": {},
   "outputs": [
    {
     "name": "stdout",
     "output_type": "stream",
     "text": [
      "['\\ufeffThe', 'Project', 'Gutenberg', 'eBook', 'of', 'White', 'Nights', 'and', 'Other', 'Stories', 'This', 'ebook', 'is', 'for', 'the', 'use', 'of', 'anyone', 'anywhere', 'in', 'the', 'United', 'States', 'and', 'most', 'other', 'parts', 'of', 'the', 'world', 'at', 'no', 'cost', 'and', 'with', 'almost', 'no', 'restrictions', 'whatsoever', '.', 'You', 'may', 'copy', 'it', ',', 'give', 'it', 'away', 'or', 're-use', 'it', 'under', 'the', 'terms', 'of', 'the', 'Project', 'Gutenberg', 'License', 'included', 'with', 'this', 'ebook', 'or', 'online', 'at', 'www.gutenberg.org', '.', 'If', 'you', 'are', 'not', 'located', 'in', 'the', 'United', 'States', ',', 'you', 'will', 'have', 'to', 'check', 'the', 'laws', 'of', 'the', 'country', 'where', 'you', 'are', 'located', 'before', 'using', 'this', 'eBook', '.', 'Title', ':', 'White', 'Nights', 'and', 'Other', 'Stories', 'Author', ':', 'Fyodor', 'Dostoyevsky', 'Translator', ':', 'Constance', 'Garnett', 'Release', 'date', ':', 'May', '5', ',', '2011', '[', 'eBook', '#', '36034', ']', 'Language', ':', 'English', 'Credits', ':', 'Produced', 'by', 'Jan-Fabian', 'Humann', ',', 'Carol', 'Ann', 'Brown', ',', 'and', 'the', 'Online', 'Distributed', 'Proofreading', 'Team', 'at', 'http', ':', '//www.pgdp.net', '.', '(', 'This', 'file', 'was', 'produced', 'from', 'images', 'generously', 'made', 'available', 'by', 'The', 'Internet', 'Archive/American', 'Libraries', '.', ')', '*', '*', '*', 'START', 'OF', 'THE', 'PROJECT', 'GUTENBERG', 'EBOOK', 'WHITE', 'NIGHTS', 'AND', 'OTHER', 'STORIES', '*', '*', '*', 'Produced', 'by', 'Jan-Fabian', 'Humann', ',', 'Carol', 'Ann', 'Brown', ',', 'and', 'the', 'Online', 'Distributed', 'Proofreading', 'Team', 'at', 'http']\n"
     ]
    }
   ],
   "source": [
    "import nltk\n",
    "from nltk.tokenize import word_tokenize \n",
    "url=\"https://www.gutenberg.org/cache/epub/36034/pg36034.txt\"\n",
    "response=request.urlopen(url)\n",
    "tokens=word_tokenize(raw)\n",
    "print(tokens[:200])"
   ]
  },
  {
   "cell_type": "code",
   "execution_count": null,
   "id": "28d46699-ec1a-4d30-9a3a-9a1995d6a724",
   "metadata": {},
   "outputs": [],
   "source": []
  }
 ],
 "metadata": {
  "kernelspec": {
   "display_name": "Python 3 (ipykernel)",
   "language": "python",
   "name": "python3"
  },
  "language_info": {
   "codemirror_mode": {
    "name": "ipython",
    "version": 3
   },
   "file_extension": ".py",
   "mimetype": "text/x-python",
   "name": "python",
   "nbconvert_exporter": "python",
   "pygments_lexer": "ipython3",
   "version": "3.12.4"
  }
 },
 "nbformat": 4,
 "nbformat_minor": 5
}
