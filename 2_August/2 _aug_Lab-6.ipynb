{
 "cells": [
  {
   "cell_type": "markdown",
   "id": "682f957d-2c9b-4b8b-b8c4-777bcdaabeac",
   "metadata": {},
   "source": [
    "# Course Code:CSI3007\n",
    "# Lab no-6\n",
    "# Name:Varshitha V\n",
    "# Reg.no:22MID0105\n",
    "# Date:2/8/25"
   ]
  },
  {
   "cell_type": "markdown",
   "id": "e6b8e49a-2a46-487c-bb9d-65dc5370d1d2",
   "metadata": {},
   "source": [
    "# 1.Passing Arguments - Positional & Keyword Arguments"
   ]
  },
  {
   "cell_type": "code",
   "execution_count": 4,
   "id": "f7c274ee-83c3-4c6e-a509-e54bdaff5b0e",
   "metadata": {},
   "outputs": [
    {
     "name": "stdout",
     "output_type": "stream",
     "text": [
      "Added '1984' by George Orwell.\n",
      "Added 'Harry Potter' by J.K. Rowling.\n"
     ]
    }
   ],
   "source": [
    "def add_book(title, author):\n",
    "    # Prints the book info given title and author\n",
    "    print(f\"Added '{title}' by {author}.\")\n",
    "\n",
    "# Positional arguments: order matters\n",
    "add_book(\"1984\", \"George Orwell\")  \n",
    "\n",
    "# Keyword arguments: order doesn't matter, specify by name\n",
    "add_book(author=\"J.K. Rowling\", title=\"Harry Potter\")  \n"
   ]
  },
  {
   "cell_type": "markdown",
   "id": "b0c0a633-14be-40f5-8b25-ca9d48dd5ea7",
   "metadata": {},
   "source": [
    "# 2. Multiple Function Calls"
   ]
  },
  {
   "cell_type": "code",
   "execution_count": 6,
   "id": "50b72ef3-5856-49fb-a93a-dcc04203395d",
   "metadata": {},
   "outputs": [
    {
     "name": "stdout",
     "output_type": "stream",
     "text": [
      "Added 'Dune' by Frank Herbert.\n",
      "Added 'Fahrenheit 451' by Ray Bradbury.\n"
     ]
    }
   ],
   "source": [
    "add_book(\"Dune\", \"Frank Herbert\")  \n",
    "add_book(\"Fahrenheit 451\", \"Ray Bradbury\")  \n",
    "# Both calls work independently and output their own lines.\n"
   ]
  },
  {
   "cell_type": "markdown",
   "id": "92738083-c653-4bf8-8116-008829364152",
   "metadata": {},
   "source": [
    "# 3.Order Matters in Positional Arguments"
   ]
  },
  {
   "cell_type": "code",
   "execution_count": 8,
   "id": "30980c57-1d88-449c-9ded-48324b1a3f01",
   "metadata": {},
   "outputs": [
    {
     "name": "stdout",
     "output_type": "stream",
     "text": [
      "Added 'Margaret Atwood' by The Handmaid's Tale.\n"
     ]
    }
   ],
   "source": [
    "# Incorrect order, results in swapped values:\n",
    "add_book(\"Margaret Atwood\", \"The Handmaid's Tale\")  \n",
    "# This is wrong because first param is title, second is author.\n"
   ]
  },
  {
   "cell_type": "markdown",
   "id": "d412248b-f1a4-4b68-ab78-6b2f7a3fccea",
   "metadata": {},
   "source": [
    "# 4.Keyword Arguments"
   ]
  },
  {
   "cell_type": "code",
   "execution_count": null,
   "id": "2a3ba1dc-e7b6-49c3-8d82-e42586e58bc8",
   "metadata": {},
   "outputs": [],
   "source": [
    "# Correct, regardless of order:\n",
    "add_book(author=\"Margaret Atwood\", title=\"The Handmaid's Tale\")  \n"
   ]
  },
  {
   "cell_type": "markdown",
   "id": "2cae3105-2013-4378-841c-5dcb01370f41",
   "metadata": {},
   "source": [
    "# 5.Default Values"
   ]
  },
  {
   "cell_type": "code",
   "execution_count": 9,
   "id": "2b921f9e-e7d7-4773-911e-ab9b3dc50785",
   "metadata": {},
   "outputs": [
    {
     "name": "stdout",
     "output_type": "stream",
     "text": [
      "Added 'Unknown Book' by Unknown.\n"
     ]
    }
   ],
   "source": [
    "def add_book(title, author=\"Unknown\"):\n",
    "    print(f\"Added '{title}' by {author}.\")\n",
    "\n",
    "add_book(\"Unknown Book\") #default value assigned\n"
   ]
  },
  {
   "cell_type": "markdown",
   "id": "7d4ec3f5-96ca-4ea5-97ab-61b1330ce26b",
   "metadata": {},
   "source": [
    "# 6. Many Ways to Call a Function"
   ]
  },
  {
   "cell_type": "code",
   "execution_count": 10,
   "id": "0af8fc12-9434-4e68-aea7-013ef29fbea7",
   "metadata": {},
   "outputs": [
    {
     "name": "stdout",
     "output_type": "stream",
     "text": [
      "Added 'The Hobbit' by Unknown.\n",
      "Added 'The Hobbit' by Unknown.\n",
      "Added 'The Hobbit' by J.R.R. Tolkien.\n",
      "Added 'The Hobbit' by J.R.R. Tolkien.\n"
     ]
    }
   ],
   "source": [
    "add_book('The Hobbit')  # Positional, uses default author 'Unknown'\n",
    "add_book(title='The Hobbit')  # Keyword, default author used\n",
    "add_book('The Hobbit', 'J.R.R. Tolkien')  # Positional both\n",
    "add_book(author='J.R.R. Tolkien', title='The Hobbit')  # Keyword both, any order\n"
   ]
  },
  {
   "cell_type": "markdown",
   "id": "bc275afe-bcb3-4019-beaf-baf619fff238",
   "metadata": {},
   "source": [
    "# 7 . Returning a Simple Value"
   ]
  },
  {
   "cell_type": "code",
   "execution_count": 11,
   "id": "52d6c3c2-2b02-4178-8bba-0c074bcd04d7",
   "metadata": {},
   "outputs": [
    {
     "name": "stdout",
     "output_type": "stream",
     "text": [
      "'The Hobbit' by J.R.R. Tolkien\n"
     ]
    }
   ],
   "source": [
    "def get_book_info(title, author):\n",
    "    return f\"'{title}' by {author}\"\n",
    "\n",
    "info = get_book_info(\"The Hobbit\", \"J.R.R. Tolkien\")\n",
    "print(info)  \n"
   ]
  },
  {
   "cell_type": "markdown",
   "id": "6dd2dac1-c94f-4e49-8123-84483c1baff9",
   "metadata": {},
   "source": [
    "# 8. Making an Argument Optional"
   ]
  },
  {
   "cell_type": "code",
   "execution_count": 12,
   "id": "c74e5983-97ce-4e56-bb1f-fd9f640eff13",
   "metadata": {},
   "outputs": [
    {
     "name": "stdout",
     "output_type": "stream",
     "text": [
      "'The Hobbit' by an unknown author\n",
      "'The Hobbit' by J.R.R. Tolkien\n"
     ]
    }
   ],
   "source": [
    "def get_book_info(title, author=None):\n",
    "    if author:\n",
    "        return f\"'{title}' by {author}\"\n",
    "    else:\n",
    "        return f\"'{title}' by an unknown author\"\n",
    "\n",
    "print(get_book_info(\"The Hobbit\"))  \n",
    "\n",
    "print(get_book_info(\"The Hobbit\", \"J.R.R. Tolkien\")) \n"
   ]
  },
  {
   "cell_type": "markdown",
   "id": "d2ae52ae-1e26-406f-879e-bd842f5657be",
   "metadata": {},
   "source": [
    "# 9. Returning a Dictionary"
   ]
  },
  {
   "cell_type": "code",
   "execution_count": 13,
   "id": "c8e80c86-5457-428c-b1b3-d6054a452a1d",
   "metadata": {},
   "outputs": [
    {
     "name": "stdout",
     "output_type": "stream",
     "text": [
      "{'title': 'The Hobbit', 'author': 'J.R.R. Tolkien'}\n"
     ]
    }
   ],
   "source": [
    "def build_book(title, author):\n",
    "    return {'title': title, 'author': author}\n",
    "\n",
    "book = build_book(\"The Hobbit\", \"J.R.R. Tolkien\")\n",
    "print(book)  \n"
   ]
  },
  {
   "cell_type": "markdown",
   "id": "dbb6b177-e7de-4641-ab05-fba4592e6e9e",
   "metadata": {},
   "source": [
    "#  10. Passing a List"
   ]
  },
  {
   "cell_type": "code",
   "execution_count": 14,
   "id": "c8eb8f52-e219-49fe-ba7f-4f00e76b86a2",
   "metadata": {},
   "outputs": [
    {
     "name": "stdout",
     "output_type": "stream",
     "text": [
      "Title: 1984, Author: George Orwell\n",
      "Title: Dune, Author: Frank Herbert\n"
     ]
    }
   ],
   "source": [
    "def list_books(books):\n",
    "    for book in books:\n",
    "        print(f\"Title: {book['title']}, Author: {book['author']}\")\n",
    "\n",
    "books = [\n",
    "    {'title': '1984', 'author': 'George Orwell'},\n",
    "    {'title': 'Dune', 'author': 'Frank Herbert'}\n",
    "]\n",
    "list_books(books)\n",
    "\n"
   ]
  },
  {
   "cell_type": "markdown",
   "id": "80a9dbb9-3b55-453d-a73f-2fedc92daddf",
   "metadata": {},
   "source": [
    "# 11. Modifying a List inside the function (HW)"
   ]
  },
  {
   "cell_type": "code",
   "execution_count": 35,
   "id": "a7a5953b-9bbd-420f-ad58-5b68d290e141",
   "metadata": {},
   "outputs": [
    {
     "name": "stdout",
     "output_type": "stream",
     "text": [
      "Added 'The Hobbit' to the reading list.\n",
      "Updated reading list: ['1984', 'Dune', 'The Hobbit']\n"
     ]
    }
   ],
   "source": [
    "def add_book(to_read_list, book_title):\n",
    "    # Add a new book to the reading list\n",
    "    to_read_list.append(book_title)\n",
    "    print(f\"Added '{book_title}' to the reading list.\")\n",
    "\n",
    "# Initial reading list\n",
    "my_books = ['1984', 'Dune']\n",
    "\n",
    "# Call function to add a book\n",
    "add_book(my_books, 'The Hobbit')\n",
    "\n",
    "print(\"Updated reading list:\", my_books)\n"
   ]
  },
  {
   "cell_type": "markdown",
   "id": "f0027152-b8f1-41e7-99d3-714c54a4c2cd",
   "metadata": {},
   "source": [
    "# 12. Protecting a List from Updates (HW)"
   ]
  },
  {
   "cell_type": "code",
   "execution_count": 36,
   "id": "07217b84-ced6-4c92-9c7e-b4ee24b9e44d",
   "metadata": {},
   "outputs": [
    {
     "name": "stdout",
     "output_type": "stream",
     "text": [
      "Added 'The Hobbit' to the reading list copy.\n",
      "Original reading list: ['1984', 'Dune']\n",
      "Updated copy: ['1984', 'Dune', 'The Hobbit']\n"
     ]
    }
   ],
   "source": [
    "def add_book_safe(to_read_list, book_title):\n",
    "    # Make a copy of the list to avoid modifying the original\n",
    "    new_list = to_read_list.copy()  # or list(to_read_list)\n",
    "    new_list.append(book_title)\n",
    "    print(f\"Added '{book_title}' to the reading list copy.\")\n",
    "    return new_list\n",
    "\n",
    "# Original reading list\n",
    "my_books = ['1984', 'Dune']\n",
    "\n",
    "# Call function — returns a new list with added book\n",
    "updated_books = add_book_safe(my_books, 'The Hobbit')\n",
    "\n",
    "print(\"Original reading list:\", my_books)#not changed\n",
    "print(\"Updated copy:\", updated_books)\n"
   ]
  },
  {
   "cell_type": "markdown",
   "id": "5a1db9cb-edec-495d-a156-76fd9ec51dc9",
   "metadata": {},
   "source": [
    "# 13. Passing an Arbitrary Number of Arguments"
   ]
  },
  {
   "cell_type": "code",
   "execution_count": 17,
   "id": "70472667-1680-4045-9c73-db5405391825",
   "metadata": {},
   "outputs": [
    {
     "name": "stdout",
     "output_type": "stream",
     "text": [
      "Book: Dune\n",
      "Tags:\n",
      "- sci-fi\n",
      "- classic\n",
      "- space\n"
     ]
    }
   ],
   "source": [
    "def add_tags(book_title, *tags):\n",
    "    print(f\"Book: {book_title}\")\n",
    "    print(\"Tags:\")\n",
    "    for tag in tags:\n",
    "        print(f\"- {tag}\")\n",
    "\n",
    "add_tags(\"Dune\", \"sci-fi\", \"classic\", \"space\")\n",
    "# Output:\n",
    "# Book: Dune\n",
    "# Tags:\n",
    "# - sci-fi\n",
    "# - classic\n",
    "# - space\n"
   ]
  },
  {
   "cell_type": "markdown",
   "id": "9128d0f2-77de-45bf-b7ad-afbae18dfaf2",
   "metadata": {},
   "source": [
    "# 14. Mixing Positional and Arbitrary Arguments"
   ]
  },
  {
   "cell_type": "code",
   "execution_count": 18,
   "id": "ece1704b-22ad-4d47-b19e-fd86dc682ef9",
   "metadata": {},
   "outputs": [
    {
     "name": "stdout",
     "output_type": "stream",
     "text": [
      "Book: Dune\n",
      "- sci-fi\n",
      "- classic\n"
     ]
    }
   ],
   "source": [
    "def add_tags(book_title, *tags):\n",
    "    print(f\"Book: {book_title}\")\n",
    "    for tag in tags:\n",
    "        print(f\"- {tag}\")\n",
    "\n",
    "add_tags(\"Dune\", \"sci-fi\", \"classic\")\n"
   ]
  },
  {
   "cell_type": "markdown",
   "id": "263a462e-4708-4bd1-873d-d14f6ac569f4",
   "metadata": {},
   "source": [
    "\n",
    "# 15. Using Arbitrary Keyword Arguments"
   ]
  },
  {
   "cell_type": "code",
   "execution_count": 20,
   "id": "20feab97-fb44-4c8f-928e-ae7382398dba",
   "metadata": {},
   "outputs": [
    {
     "name": "stdout",
     "output_type": "stream",
     "text": [
      "Info for 'Dune':\n",
      "author: Frank Herbert\n",
      "year: 1965\n",
      "pages: 412\n"
     ]
    }
   ],
   "source": [
    "def book_info(title, **details):\n",
    "    print(f\"Info for '{title}':\")\n",
    "    for key, value in details.items():\n",
    "        print(f\"{key}: {value}\")\n",
    "\n",
    "book_info(\"Dune\", author=\"Frank Herbert\", year=1965, pages=412)\n",
    "# Output:\n",
    "# Info for 'Dune':\n",
    "# author: Frank Herbert\n",
    "# year: 1965\n",
    "# pages: 412\n"
   ]
  },
  {
   "cell_type": "markdown",
   "id": "1b4da62a-fcb0-449f-8702-c5f6ed0d1613",
   "metadata": {},
   "source": [
    "# 16. Storing Your Functions in Modules"
   ]
  },
  {
   "cell_type": "code",
   "execution_count": 21,
   "id": "8c2ae18b-6479-47bd-b672-40f72ee2daee",
   "metadata": {},
   "outputs": [],
   "source": [
    "#the code is saved in another text file\n"
   ]
  },
  {
   "cell_type": "markdown",
   "id": "88538bf2-9df0-4d9e-8140-fa63ca9264b5",
   "metadata": {},
   "source": [
    "# 17. Importing Specific Functions"
   ]
  },
  {
   "cell_type": "code",
   "execution_count": 31,
   "id": "53859c67-818e-4408-b4fc-4aadbec646d8",
   "metadata": {},
   "outputs": [
    {
     "name": "stdout",
     "output_type": "stream",
     "text": [
      "Removed '1984' from the library.\n",
      "Listing all books...\n"
     ]
    }
   ],
   "source": [
    "# Assuming you have library.py with functions add_book, remove_book, list_books\n",
    "\n",
    "from booklib import remove_book, list_books\n",
    "\n",
    "remove_book(\"1984\")  \n",
    "# Output: Removed '1984' from the library.\n",
    "\n",
    "list_books()  \n",
    "# Output: Listing all books...\n"
   ]
  },
  {
   "cell_type": "markdown",
   "id": "25d9d64d-7199-4f15-b1c6-10d05923d7db",
   "metadata": {},
   "source": [
    "# 18. Give a Function an Alias using as"
   ]
  },
  {
   "cell_type": "code",
   "execution_count": 28,
   "id": "a6f253f4-21af-4e1c-9237-f373ebde1bbd",
   "metadata": {},
   "outputs": [
    {
     "name": "stdout",
     "output_type": "stream",
     "text": [
      "Added 'The Hobbit' by J.R.R. Tolkien.\n"
     ]
    }
   ],
   "source": [
    "from booklib import add_book as add\n",
    "add(\"The Hobbit\", \"J.R.R. Tolkien\")\n"
   ]
  },
  {
   "cell_type": "markdown",
   "id": "4a150e81-2232-4bd9-aa7b-4b385779f881",
   "metadata": {},
   "source": [
    "# 19. Give a Module an Alias using as"
   ]
  },
  {
   "cell_type": "code",
   "execution_count": 29,
   "id": "00f1f0ec-29e1-4048-a172-1862f23d3dca",
   "metadata": {},
   "outputs": [
    {
     "name": "stdout",
     "output_type": "stream",
     "text": [
      "Added 'The Hobbit' by J.R.R. Tolkien.\n"
     ]
    }
   ],
   "source": [
    "import booklib as lib\n",
    "lib.add_book(\"The Hobbit\", \"J.R.R. Tolkien\")\n"
   ]
  },
  {
   "cell_type": "markdown",
   "id": "f06c4be5-8f30-4f69-9367-72adf74394d8",
   "metadata": {},
   "source": [
    "# 20. Importing All Functions in a Module"
   ]
  },
  {
   "cell_type": "code",
   "execution_count": 34,
   "id": "ed647e0c-86bb-4a8a-ab34-c67b1193539c",
   "metadata": {},
   "outputs": [
    {
     "name": "stdout",
     "output_type": "stream",
     "text": [
      "Added 'Fahrenheit 451' by Ray Bradbury.\n",
      "Removed 'Dune' from the library.\n",
      "Listing all books...\n"
     ]
    }
   ],
   "source": [
    "from booklib import *  # Import all functions from library.py\n",
    "\n",
    "add_book(\"Fahrenheit 451\", \"Ray Bradbury\")\n",
    "# Output: Added 'Fahrenheit 451' by Ray Bradbury.\n",
    "\n",
    "remove_book(\"Dune\")\n",
    "# Output: Removed 'Dune' from the library.\n",
    "\n",
    "list_books()\n"
   ]
  },
  {
   "cell_type": "code",
   "execution_count": null,
   "id": "5a794783-a0e0-474e-8d05-4b993e608d2e",
   "metadata": {},
   "outputs": [],
   "source": []
  }
 ],
 "metadata": {
  "kernelspec": {
   "display_name": "Python 3 (ipykernel)",
   "language": "python",
   "name": "python3"
  },
  "language_info": {
   "codemirror_mode": {
    "name": "ipython",
    "version": 3
   },
   "file_extension": ".py",
   "mimetype": "text/x-python",
   "name": "python",
   "nbconvert_exporter": "python",
   "pygments_lexer": "ipython3",
   "version": "3.13.5"
  }
 },
 "nbformat": 4,
 "nbformat_minor": 5
}
