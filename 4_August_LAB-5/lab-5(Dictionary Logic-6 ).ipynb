{
 "cells": [
  {
   "cell_type": "code",
   "execution_count": null,
   "id": "169f47e0-2630-4049-b8e8-9e836e8a0a64",
   "metadata": {},
   "outputs": [],
   "source": [
    "Course Code:CSI3007\n",
    "Name:Varshitha V\n",
    "Reg.no:22MID0105\n",
    "Lab.no:5\n"
   ]
  },
  {
   "cell_type": "code",
   "execution_count": 2,
   "id": "0b2bc2c7-ff10-48b1-bee6-5353f42728f8",
   "metadata": {},
   "outputs": [
    {
     "name": "stdout",
     "output_type": "stream",
     "text": [
      "1\n",
      "3\n",
      "5\n",
      "7\n"
     ]
    }
   ],
   "source": [
    "odds=[1,3,5,7]\n",
    "a,b,c,d,=odds\n",
    "print(a)\n",
    "print(b)\n",
    "print(c)\n",
    "print(d)\n"
   ]
  },
  {
   "cell_type": "code",
   "execution_count": 3,
   "id": "ea1f48a6-9d6e-4143-a13c-94a1647bc625",
   "metadata": {},
   "outputs": [
    {
     "name": "stdout",
     "output_type": "stream",
     "text": [
      "1\n",
      "3\n",
      "[5, 7]\n"
     ]
    }
   ],
   "source": [
    "a,b,*c=odds\n",
    "print(a)\n",
    "print(b)\n",
    "print(c)"
   ]
  },
  {
   "cell_type": "code",
   "execution_count": 4,
   "id": "469d368b-5be9-4259-9475-99cfb86fb591",
   "metadata": {},
   "outputs": [
    {
     "name": "stdout",
     "output_type": "stream",
     "text": [
      "3\n",
      "[5, 7]\n",
      "9\n"
     ]
    }
   ],
   "source": [
    "a,*b,c=[3,5,7,9]\n",
    "print(a)\n",
    "print(b)\n",
    "print(c)"
   ]
  },
  {
   "cell_type": "code",
   "execution_count": 6,
   "id": "970e5bf8-cf80-4be0-94d3-3dd71f0d10f1",
   "metadata": {},
   "outputs": [
    {
     "name": "stdout",
     "output_type": "stream",
     "text": [
      "16\n"
     ]
    }
   ],
   "source": [
    "def a(x,y,z,a):\n",
    "    return (x+y+z+a)\n",
    "print(a(*odds))"
   ]
  },
  {
   "cell_type": "code",
   "execution_count": 7,
   "id": "0399dff6-3bbe-416f-af6d-671b52a41d23",
   "metadata": {},
   "outputs": [
    {
     "name": "stdout",
     "output_type": "stream",
     "text": [
      "Hello,seetha\n",
      "Hello,priya\n",
      "Hello,arun\n"
     ]
    }
   ],
   "source": [
    "def say_hi(*names):\n",
    "    for n in names:\n",
    "        print(f\"Hello,{n}\")\n",
    "say_hi(\"seetha\",\"priya\",\"arun\")"
   ]
  },
  {
   "cell_type": "code",
   "execution_count": 13,
   "id": "bd783366-e211-4180-bd7d-d53a0a73140d",
   "metadata": {},
   "outputs": [
    {
     "ename": "SyntaxError",
     "evalue": "invalid syntax (3111629251.py, line 4)",
     "output_type": "error",
     "traceback": [
      "  \u001b[36mCell\u001b[39m\u001b[36m \u001b[39m\u001b[32mIn[13]\u001b[39m\u001b[32m, line 4\u001b[39m\n\u001b[31m    \u001b[39m\u001b[31mshow_info(code:'csi3007',name:'python',venue:'sjt317')\u001b[39m\n                  ^\n\u001b[31mSyntaxError\u001b[39m\u001b[31m:\u001b[39m invalid syntax\n"
     ]
    }
   ],
   "source": [
    "def show_info(**info):\n",
    "    for k,v in info.items():\n",
    "        print(f\"{k}:{v}\")\n",
    "show_info(code:'csi3007',name:'python',venue:'sjt317')#error\n"
   ]
  },
  {
   "cell_type": "code",
   "execution_count": 15,
   "id": "143b664d-45b4-43aa-8423-1769d4ba4e66",
   "metadata": {},
   "outputs": [
    {
     "name": "stdout",
     "output_type": "stream",
     "text": [
      "code:csi3007\n",
      "name:python\n",
      "venue:sjt317\n",
      "code:csi3007\n",
      "name:python\n",
      "venue:sjt317\n"
     ]
    }
   ],
   "source": [
    "def show_info(**info):\n",
    "    for k,v in info.items():\n",
    "        print(f\"{k}:{v}\")\n",
    "show_info(code='csi3007',name='python',venue='sjt317')\n",
    "data={\"code\":'csi3007',\"name\":'python',\"venue\":'sjt317'}\n",
    "show_info(**data)"
   ]
  },
  {
   "cell_type": "code",
   "execution_count": null,
   "id": "be9e98f6-5d01-456a-8cd8-3e1733eba06d",
   "metadata": {},
   "outputs": [],
   "source": []
  }
 ],
 "metadata": {
  "kernelspec": {
   "display_name": "Python 3 (ipykernel)",
   "language": "python",
   "name": "python3"
  },
  "language_info": {
   "codemirror_mode": {
    "name": "ipython",
    "version": 3
   },
   "file_extension": ".py",
   "mimetype": "text/x-python",
   "name": "python",
   "nbconvert_exporter": "python",
   "pygments_lexer": "ipython3",
   "version": "3.13.5"
  }
 },
 "nbformat": 4,
 "nbformat_minor": 5
}
