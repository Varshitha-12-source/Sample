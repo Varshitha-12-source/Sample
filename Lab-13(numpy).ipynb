{
 "cells": [
  {
   "cell_type": "markdown",
   "id": "7c1c2dc4-96d3-4533-aebc-40e504046cd6",
   "metadata": {},
   "source": [
    "# CSI3007-ADVANCED PYTHON PROGRAMMING\n",
    "# LAB NO : 13\n",
    "# NAME:VARSHITHA.V\n",
    "# REG.NO:22MID0105\n"
   ]
  },
  {
   "cell_type": "code",
   "execution_count": 4,
   "id": "6d9cea31-71fc-490f-9144-db35a549cbf3",
   "metadata": {},
   "outputs": [
    {
     "data": {
      "text/plain": [
       "array([[0. , 1. ],\n",
       "       [0.5, 1. ],\n",
       "       [1. , 1. ],\n",
       "       [1.5, 1. ],\n",
       "       [2. , 1. ]])"
      ]
     },
     "execution_count": 4,
     "metadata": {},
     "output_type": "execute_result"
    }
   ],
   "source": [
    "import numpy as np\n",
    "np.vander(np.linspace(0,2,5),2) #vander matrix increasing and decreasing power #(0,0.5,1,1.5,2)"
   ]
  },
  {
   "cell_type": "code",
   "execution_count": 6,
   "id": "ed11d036-9418-4513-bd83-0897b037e475",
   "metadata": {},
   "outputs": [
    {
     "data": {
      "text/plain": [
       "array([[ 1,  1,  1],\n",
       "       [ 4,  2,  1],\n",
       "       [ 9,  3,  1],\n",
       "       [16,  4,  1]])"
      ]
     },
     "execution_count": 6,
     "metadata": {},
     "output_type": "execute_result"
    }
   ],
   "source": [
    "np.vander((1,2,3,4),3)"
   ]
  },
  {
   "cell_type": "markdown",
   "id": "7f672f17-1d21-46a8-b595-2a13f0118c29",
   "metadata": {},
   "source": [
    "# NUMPY MODULE IN PYTHON"
   ]
  },
  {
   "cell_type": "markdown",
   "id": "e39337df-6512-49dd-90e8-07e249391d5e",
   "metadata": {},
   "source": [
    "# np.array()\n",
    "# Creates an N-dimensional array from a Python list or tuple. This is the most fundamental way to create a NumPy array.\n",
    "\n"
   ]
  },
  {
   "cell_type": "code",
   "execution_count": 8,
   "id": "8dc0a9ec-0403-44ac-b507-1c6f74cd7377",
   "metadata": {},
   "outputs": [
    {
     "name": "stdout",
     "output_type": "stream",
     "text": [
      "1-D Array: [1 2 3 4 5]\n",
      "\n",
      "2-D Array:\n",
      " [[1 2 3]\n",
      " [4 5 6]]\n"
     ]
    }
   ],
   "source": [
    "import numpy as np\n",
    "\n",
    "# Create a 1-D array\n",
    "my_list = [1, 2, 3, 4, 5]\n",
    "array1d = np.array(my_list)\n",
    "print(\"1-D Array:\", array1d)\n",
    "\n",
    "# Create a 2-D array\n",
    "my_nested_list = [[1, 2, 3], [4, 5, 6]]\n",
    "array2d = np.array(my_nested_list)\n",
    "print(\"\\n2-D Array:\\n\", array2d)"
   ]
  },
  {
   "cell_type": "markdown",
   "id": "1c2ff22e-ea50-4971-aea0-2b1195069c53",
   "metadata": {},
   "source": [
    "# np.eye()\n",
    "# Creates a 2-D array with ones on the main diagonal and zeros elsewhere. This is known as an identity matrix, which is crucial in linear algebra."
   ]
  },
  {
   "cell_type": "code",
   "execution_count": 9,
   "id": "a408a5ae-ca13-4262-b24f-85161bb25477",
   "metadata": {},
   "outputs": [
    {
     "name": "stdout",
     "output_type": "stream",
     "text": [
      "Identity Matrix:\n",
      " [[1. 0. 0.]\n",
      " [0. 1. 0.]\n",
      " [0. 0. 1.]]\n",
      "\n",
      "Shifted Matrix:\n",
      " [[0. 1. 0. 0. 0.]\n",
      " [0. 0. 1. 0. 0.]\n",
      " [0. 0. 0. 1. 0.]\n",
      " [0. 0. 0. 0. 1.]]\n"
     ]
    }
   ],
   "source": [
    "import numpy as np\n",
    "\n",
    "# Create a 3x3 identity matrix\n",
    "identity_matrix = np.eye(3)\n",
    "print(\"Identity Matrix:\\n\", identity_matrix)\n",
    "\n",
    "# Create a 4x5 matrix with the diagonal shifted\n",
    "shifted_matrix = np.eye(4, 5, k=1)\n",
    "print(\"\\nShifted Matrix:\\n\", shifted_matrix)"
   ]
  },
  {
   "cell_type": "markdown",
   "id": "d46b6a0c-f9de-4bf9-a929-416a309341e0",
   "metadata": {},
   "source": [
    "# np.linspace()\n",
    "# Generates an array of a specified number of evenly spaced values over a given interval."
   ]
  },
  {
   "cell_type": "code",
   "execution_count": 10,
   "id": "62c63db1-4f7c-4551-9fac-3fd97b16999e",
   "metadata": {},
   "outputs": [
    {
     "name": "stdout",
     "output_type": "stream",
     "text": [
      "Evenly spaced array:\n",
      " [ 0.   2.5  5.   7.5 10. ]\n"
     ]
    }
   ],
   "source": [
    "import numpy as np\n",
    "\n",
    "# Create 5 numbers from 0 to 10 (inclusive)\n",
    "evenly_spaced = np.linspace(0, 10, 5)\n",
    "print(\"Evenly spaced array:\\n\", evenly_spaced)"
   ]
  },
  {
   "cell_type": "markdown",
   "id": "7a20b158-2398-4707-ba88-fd6b7c3e5c5b",
   "metadata": {},
   "source": [
    "# np.arange()\n",
    "# Generates an array with values from a given range, similar to Python's built-in range() but returns an array instead of a list. You can specify a start, stop, and step size."
   ]
  },
  {
   "cell_type": "code",
   "execution_count": 11,
   "id": "749d5c14-95bb-41c5-929d-1fd3c2a2375b",
   "metadata": {},
   "outputs": [
    {
     "name": "stdout",
     "output_type": "stream",
     "text": [
      "Array from range(10):\n",
      " [0 1 2 3 4 5 6 7 8 9]\n",
      "\n",
      "Array with step of 2:\n",
      " [ 5  7  9 11 13 15]\n"
     ]
    }
   ],
   "source": [
    "import numpy as np\n",
    "\n",
    "# Create an array from 0 to 9 with a step of 1\n",
    "range_array = np.arange(10)\n",
    "print(\"Array from range(10):\\n\", range_array)\n",
    "\n",
    "# Create an array from 5 to 15 with a step of 2\n",
    "stepped_array = np.arange(5, 16, 2)\n",
    "print(\"\\nArray with step of 2:\\n\", stepped_array)"
   ]
  },
  {
   "cell_type": "markdown",
   "id": "cd3ef2db-f317-480d-8187-10201dc2e965",
   "metadata": {},
   "source": [
    "# np.zeros()-Creates a new array of a given shape and fills it with zeros"
   ]
  },
  {
   "cell_type": "code",
   "execution_count": 12,
   "id": "ad4492e3-7c8d-4b6e-a1bc-50a1007ff828",
   "metadata": {},
   "outputs": [
    {
     "name": "stdout",
     "output_type": "stream",
     "text": [
      "1-D array of zeros:\n",
      " [0. 0. 0. 0. 0.]\n",
      "\n",
      "2x3 array of zeros:\n",
      " [[0. 0. 0.]\n",
      " [0. 0. 0.]]\n"
     ]
    }
   ],
   "source": [
    "import numpy as np\n",
    "\n",
    "# Create a 1-D array of 5 zeros\n",
    "zeros_1d = np.zeros(5)\n",
    "print(\"1-D array of zeros:\\n\", zeros_1d)\n",
    "\n",
    "# Create a 2x3 array of zeros\n",
    "zeros_2d = np.zeros((2, 3))\n",
    "print(\"\\n2x3 array of zeros:\\n\", zeros_2d)"
   ]
  },
  {
   "cell_type": "markdown",
   "id": "47cec870-9e12-465e-a1fb-a19910adc1ee",
   "metadata": {},
   "source": [
    "# np.random()\n",
    "# The np.random module contains many functions for generating random numbers. A common one is np.random.rand() for a uniform distribution."
   ]
  },
  {
   "cell_type": "code",
   "execution_count": 13,
   "id": "bac58ea3-a416-4e11-8cc1-36b7d46f462d",
   "metadata": {},
   "outputs": [
    {
     "name": "stdout",
     "output_type": "stream",
     "text": [
      "Random 1-D array: [0.64296053 0.44639497 0.06691361 0.47037053]\n",
      "\n",
      "Random 2x3 array:\n",
      " [[0.82652621 0.5108141  0.10903767]\n",
      " [0.50126251 0.4173411  0.35688056]]\n"
     ]
    }
   ],
   "source": [
    "import numpy as np\n",
    "\n",
    "# Generate a 1-D array of 4 random floats between 0 and 1\n",
    "random_array = np.random.rand(4)\n",
    "print(\"Random 1-D array:\", random_array)\n",
    "\n",
    "# Generate a 2x3 array of random floats\n",
    "random_2d_array = np.random.rand(2, 3)\n",
    "print(\"\\nRandom 2x3 array:\\n\", random_2d_array)"
   ]
  },
  {
   "cell_type": "markdown",
   "id": "2743cc58-782d-42b3-8a99-283e0f0b5130",
   "metadata": {},
   "source": [
    "# np.vander()\n",
    "# Generates a Vandermonde matrix from a 1-D input array. The columns of the output are decreasing powers of the input vector."
   ]
  },
  {
   "cell_type": "code",
   "execution_count": 14,
   "id": "b171bce4-ab3b-4c05-82a6-cef4c1821dee",
   "metadata": {},
   "outputs": [
    {
     "name": "stdout",
     "output_type": "stream",
     "text": [
      "Vandermonde matrix:\n",
      " [[ 1  1  1  1]\n",
      " [ 8  4  2  1]\n",
      " [27  9  3  1]\n",
      " [64 16  4  1]]\n",
      "\n",
      "Vandermonde matrix with 3 columns:\n",
      " [[ 1  1  1]\n",
      " [ 4  2  1]\n",
      " [ 9  3  1]\n",
      " [16  4  1]]\n"
     ]
    }
   ],
   "source": [
    "import numpy as np\n",
    "\n",
    "# Create a Vandermonde matrix from a 1-D array\n",
    "input_array = np.array([1, 2, 3, 4])\n",
    "vander_matrix = np.vander(input_array)\n",
    "print(\"Vandermonde matrix:\\n\", vander_matrix)\n",
    "\n",
    "# Create a Vandermonde matrix with a specific number of columns\n",
    "vander_subset = np.vander(input_array, 3)\n",
    "print(\"\\nVandermonde matrix with 3 columns:\\n\", vander_subset)"
   ]
  },
  {
   "cell_type": "markdown",
   "id": "2a7bc5fd-a190-4772-9bd7-46bf8089993d",
   "metadata": {},
   "source": [
    "# Vander with linspace"
   ]
  },
  {
   "cell_type": "code",
   "execution_count": 19,
   "id": "97725f7b-883b-41fe-a261-ae7f58d68fc9",
   "metadata": {},
   "outputs": [
    {
     "name": "stdout",
     "output_type": "stream",
     "text": [
      "The input array is:\n",
      " [0. 1. 2. 3. 4.]\n",
      "\n",
      "The Vandermonde matrix is:\n",
      " [[  0.   0.   0.   0.   1.]\n",
      " [  1.   1.   1.   1.   1.]\n",
      " [ 16.   8.   4.   2.   1.]\n",
      " [ 81.  27.   9.   3.   1.]\n",
      " [256.  64.  16.   4.   1.]]\n",
      "\n",
      "The Vandermonde matrix with 3 columns is:\n",
      " [[ 0.  0.  1.]\n",
      " [ 1.  1.  1.]\n",
      " [ 4.  2.  1.]\n",
      " [ 9.  3.  1.]\n",
      " [16.  4.  1.]]\n"
     ]
    }
   ],
   "source": [
    "import numpy as np\n",
    "\n",
    "# Step 1: Create an evenly spaced array using np.linspace()\n",
    "# This creates an array of 5 numbers from 0 to 4\n",
    "x = np.linspace(0, 4, 5)\n",
    "print(\"The input array is:\\n\", x)\n",
    "\n",
    "# Step 2: Use np.vander() to create the Vandermonde matrix\n",
    "# The code below takes the array 'x' and generates a matrix\n",
    "# where each row consists of the decreasing powers of the\n",
    "# corresponding element from 'x'.\n",
    "vander_matrix = np.vander(x)\n",
    "print(\"\\nThe Vandermonde matrix is:\\n\", vander_matrix)\n",
    "\n",
    "# You can also specify the number of columns (N) you want.\n",
    "# Here, we create a matrix with 3 columns.\n",
    "vander_subset = np.vander(x, N=3)\n",
    "print(\"\\nThe Vandermonde matrix with 3 columns is:\\n\", vander_subset)"
   ]
  },
  {
   "cell_type": "markdown",
   "id": "97909fdb-2867-4a28-b5f0-c1e6b9cadc92",
   "metadata": {},
   "source": [
    "# np.ones() - creates a new NumPy array of a specified shape, filled with the value one."
   ]
  },
  {
   "cell_type": "code",
   "execution_count": 15,
   "id": "e1a840df-7c34-4a18-97b6-54388de19a21",
   "metadata": {},
   "outputs": [
    {
     "name": "stdout",
     "output_type": "stream",
     "text": [
      "1-D array of ones:\n",
      " [1. 1. 1. 1. 1.]\n",
      "\n",
      "2x3 array of ones:\n",
      " [[1. 1. 1.]\n",
      " [1. 1. 1.]]\n",
      "\n",
      "2x3 integer array of ones:\n",
      " [[1 1 1]\n",
      " [1 1 1]]\n"
     ]
    }
   ],
   "source": [
    "import numpy as np\n",
    "\n",
    "# Create a 1-D array of 5 ones\n",
    "ones_1d = np.ones(5)\n",
    "print(\"1-D array of ones:\\n\", ones_1d)\n",
    "\n",
    "# Create a 2x3 array of ones\n",
    "ones_2d = np.ones((2, 3))\n",
    "print(\"\\n2x3 array of ones:\\n\", ones_2d)\n",
    "\n",
    "# Create a 2x3 array of ones with an integer data type\n",
    "ones_int = np.ones((2, 3), dtype=int)\n",
    "print(\"\\n2x3 integer array of ones:\\n\", ones_int)"
   ]
  },
  {
   "cell_type": "code",
   "execution_count": null,
   "id": "450ee206-e74e-4aac-8b16-af22654702c9",
   "metadata": {},
   "outputs": [],
   "source": [
    "np.indices()\n",
    "1. Two-Dimensional Grid"
   ]
  },
  {
   "cell_type": "code",
   "execution_count": 16,
   "id": "75a3270e-fd81-454a-83e0-df4e4d7ee4da",
   "metadata": {},
   "outputs": [
    {
     "name": "stdout",
     "output_type": "stream",
     "text": [
      "Grid of indices for a 2x3 array:\n",
      "\n",
      "[[[0 0 0]\n",
      "  [1 1 1]]\n",
      "\n",
      " [[0 1 2]\n",
      "  [0 1 2]]]\n",
      "\n",
      "Shape of the output: (2, 2, 3)\n"
     ]
    }
   ],
   "source": [
    "import numpy as np\n",
    "\n",
    "# Create a grid of indices for a 2x3 shape\n",
    "indices_2d = np.indices((2, 3))\n",
    "\n",
    "print(\"Grid of indices for a 2x3 array:\\n\")\n",
    "print(indices_2d)\n",
    "print(\"\\nShape of the output:\", indices_2d.shape)"
   ]
  },
  {
   "cell_type": "code",
   "execution_count": null,
   "id": "a4ca9013-4632-4dfd-a2f0-4ecf35158208",
   "metadata": {},
   "outputs": [],
   "source": [
    "# 2. Three-Dimensional Grid"
   ]
  },
  {
   "cell_type": "code",
   "execution_count": 17,
   "id": "9e53562c-a20b-4a2a-bcff-a6041de76176",
   "metadata": {},
   "outputs": [
    {
     "name": "stdout",
     "output_type": "stream",
     "text": [
      "Grid of indices for a 2x2x2 array:\n",
      "\n",
      "[[[[0 0]\n",
      "   [0 0]]\n",
      "\n",
      "  [[1 1]\n",
      "   [1 1]]]\n",
      "\n",
      "\n",
      " [[[0 0]\n",
      "   [1 1]]\n",
      "\n",
      "  [[0 0]\n",
      "   [1 1]]]\n",
      "\n",
      "\n",
      " [[[0 1]\n",
      "   [0 1]]\n",
      "\n",
      "  [[0 1]\n",
      "   [0 1]]]]\n",
      "\n",
      "Shape of the output: (3, 2, 2, 2)\n"
     ]
    }
   ],
   "source": [
    "import numpy as np\n",
    "\n",
    "# Create a grid of indices for a 2x2x2 shape\n",
    "indices_3d = np.indices((2, 2, 2))\n",
    "\n",
    "print(\"Grid of indices for a 2x2x2 array:\\n\")\n",
    "print(indices_3d)\n",
    "\n",
    "print(\"\\nShape of the output:\", indices_3d.shape)"
   ]
  },
  {
   "cell_type": "code",
   "execution_count": 2,
   "id": "08609b3f-57bc-465d-86f4-68928c4edb32",
   "metadata": {},
   "outputs": [
    {
     "name": "stdout",
     "output_type": "stream",
     "text": [
      "Number of dimensions (ndim): 2\n",
      "Total number of elements (size): 12\n",
      "Shape of the array (shape): (3, 4)\n"
     ]
    }
   ],
   "source": [
    "import numpy as np\n",
    "\n",
    "# Create a 2D array for demonstrationimport numpy as np\n",
    "\n",
    "# Create a 2D array for demonstration\n",
    "my_array = np.array([[1, 2, 3, 4], \n",
    "                     [5, 6, 7, 8], \n",
    "                     [9, 10, 11, 12]])\n",
    "\n",
    "# Get the number of dimensions (axes)\n",
    "dimensions = my_array.ndim\n",
    "print(\"Number of dimensions (ndim):\", dimensions)\n",
    "\n",
    "# Get the total number of elements in the array\n",
    "total_elements = my_array.size\n",
    "print(\"Total number of elements (size):\", total_elements)\n",
    "\n",
    "# Get the shape (dimensions) of the array as a tuple\n",
    "array_shape = my_array.shape\n",
    "print(\"Shape of the array (shape):\", array_shape)\n",
    "my_array = np.array([[1, 2, 3, 4], \n",
    "                     [5, 6, 7, 8], \n",
    "                     [9, 10, 11, 12]])\n",
    "\n",
    "# Get the number of dimensions (axes)\n",
    "dimensions = my_array.ndim\n",
    "print(\"Number of dimensions (ndim):\", dimensions)\n",
    "\n",
    "# Get the total number of elements in the array\n",
    "total_elements = my_array.size\n",
    "print(\"Total number of elements (size):\", total_elements)\n",
    "\n",
    "# Get the shape (dimensions) of the array as a tuple\n",
    "array_shape = my_array.shape\n",
    "print(\"Shape of the array (shape):\", array_shape)"
   ]
  },
  {
   "cell_type": "code",
   "execution_count": null,
   "id": "ecd3a1e2-4a36-461c-a50c-8b3ef127b6c8",
   "metadata": {},
   "outputs": [],
   "source": []
  }
 ],
 "metadata": {
  "kernelspec": {
   "display_name": "Python 3 (ipykernel)",
   "language": "python",
   "name": "python3"
  },
  "language_info": {
   "codemirror_mode": {
    "name": "ipython",
    "version": 3
   },
   "file_extension": ".py",
   "mimetype": "text/x-python",
   "name": "python",
   "nbconvert_exporter": "python",
   "pygments_lexer": "ipython3",
   "version": "3.12.4"
  }
 },
 "nbformat": 4,
 "nbformat_minor": 5
}
