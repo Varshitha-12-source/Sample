{
 "cells": [
  {
   "cell_type": "markdown",
   "id": "41e95001-e898-4cf8-a604-801f6ba4be54",
   "metadata": {},
   "source": [
    "# Multithreading\n",
    "# Course code:CSI3007\n",
    "# Lab no:11\n",
    "# Name:Varshitha V\n",
    "# Reg.no:22MID0105\n",
    "# Date:2/9/25"
   ]
  },
  {
   "cell_type": "code",
   "execution_count": 1,
   "id": "4afbd3b8-8abe-42d3-9136-567e2242af72",
   "metadata": {},
   "outputs": [
    {
     "name": "stdout",
     "output_type": "stream",
     "text": [
      "Sleeping 1 second...\n",
      "Done Sleeping\n",
      "Finished in 1.0 seconds\n"
     ]
    }
   ],
   "source": [
    "# We use threading when we want to significantly speed up the program, but it depends on the task that you are doing\n",
    "import time\n",
    "\n",
    "start = time.perf_counter() #using to find the time the entrirer sequecnce takes from here\n",
    "\n",
    "def do_something():\n",
    "    print('Sleeping 1 second...')\n",
    "    time.sleep(1)\n",
    "    print('Done Sleeping')\n",
    "\n",
    "do_something()\n",
    "\n",
    "finish = time.perf_counter() #using to find the time the entrirer sequecnce takes from here\n",
    "\n",
    "\n",
    "print(f'Finished in {round(finish-start,2)} seconds')"
   ]
  },
  {
   "cell_type": "code",
   "execution_count": 2,
   "id": "5da5c8b1-79bc-4cf1-8fa1-89395007b8bc",
   "metadata": {},
   "outputs": [
    {
     "name": "stdout",
     "output_type": "stream",
     "text": [
      "Sleeping 1 second...\n",
      "Done Sleeping\n",
      "Sleeping 1 second...\n",
      "Done Sleeping\n",
      "Finished in 2.0 seconds\n"
     ]
    }
   ],
   "source": [
    "# We will run the function twice\n",
    "# We use threading when we want to significantly speed up the program, but it depends on the task that you are doing\n",
    "import time\n",
    "\n",
    "start = time.perf_counter() #to find the time the entrire sequecnce takes from here\n",
    "\n",
    "def do_something():\n",
    "    print('Sleeping 1 second...')\n",
    "    time.sleep(1)\n",
    "    print('Done Sleeping')\n",
    "\n",
    "do_something()\n",
    "do_something()\n",
    "\n",
    "finish = time.perf_counter() #to find the time the entrire sequecnce till here\n",
    "\n",
    "\n",
    "print(f'Finished in {round(finish-start,2)} seconds')"
   ]
  },
  {
   "cell_type": "code",
   "execution_count": 4,
   "id": "185f79b1-82d1-489f-a578-5db9525c025f",
   "metadata": {},
   "outputs": [
    {
     "name": "stdout",
     "output_type": "stream",
     "text": [
      "Finished in 0.0 seconds\n"
     ]
    }
   ],
   "source": [
    "import threading     #no need to install, its already a part of python package, this is the traditional way of doing threading, more effective ways are done with pools\n",
    "import time\n",
    "\n",
    "start = time.perf_counter() \n",
    "\n",
    "def do_something():\n",
    "    print('Sleeping 1 second...')\n",
    "    time.sleep(1)\n",
    "    print('Done Sleeping')\n",
    "\n",
    "#instead the running the two functions like this, threads are used both of these\n",
    "#do_something()\n",
    "#do_something()\n",
    "\n",
    "t1 = threading.Thread(target = do_something) #do not pass the function with (), as we dont intend to run the function, just pass it\n",
    "t2 = threading.Thread(target = do_something)\n",
    "\n",
    "finish = time.perf_counter() #using to find the time the entrirer sequecnce takes from here\n",
    "\n",
    "\n",
    "print(f'Finished in {round(finish-start,2)} seconds')"
   ]
  },
  {
   "cell_type": "code",
   "execution_count": 5,
   "id": "f716ff76-fb3f-48c8-a0c6-689686f24b21",
   "metadata": {},
   "outputs": [
    {
     "name": "stdout",
     "output_type": "stream",
     "text": [
      "Sleeping 1 second...\n",
      "Sleeping 1 second...\n",
      "Finished in 0.01 seconds\n",
      "Done Sleeping\n",
      "Done Sleeping\n"
     ]
    }
   ],
   "source": [
    "import threading     #no need to install, its already a part of python package, this is the traditional way of doing threading, more effective ways are done with pools\n",
    "import time\n",
    "\n",
    "start = time.perf_counter() #using to find the time the entrirer sequecnce takes from here\n",
    "\n",
    "def do_something():\n",
    "    print('Sleeping 1 second...')\n",
    "    time.sleep(1)\n",
    "    print('Done Sleeping')\n",
    "\n",
    "#instead the running the two functions like this, threads are used both of these\n",
    "#do_something()\n",
    "#do_something()\n",
    "\n",
    "t1 = threading.Thread(target = do_something) #do not pass the function with (), as we dont intend to run the function, just pass it\n",
    "t2 = threading.Thread(target = do_something)\n",
    "\n",
    "t1.start()\n",
    "t2.start()\n",
    "\n",
    "finish = time.perf_counter() #using to find the time the entrirer sequecnce takes from here\n",
    "\n",
    "\n",
    "print(f'Finished in {round(finish-start,2)} seconds')"
   ]
  },
  {
   "cell_type": "code",
   "execution_count": null,
   "id": "eacf6b91-134e-4d91-903e-c403e90ff028",
   "metadata": {},
   "outputs": [],
   "source": [
    "import threading    \n",
    "import time\n",
    "\n",
    "start = time.perf_counter() \n",
    "def do_something():\n",
    "    print('Sleeping 1 second...')\n",
    "    time.sleep(1)\n",
    "    print('Done Sleeping')\n",
    "\n",
    "#instead the running the two functions like this, threads are used both of these\n",
    "#do_something()\n",
    "#do_something()\n",
    "\n",
    "t1 = threading.Thread(target = do_something) #do not pass the function with (), as we dont intend to run the function, just pass it\n",
    "t2 = threading.Thread(target = do_something)\n",
    "\n",
    "t1.start()\n",
    "t2.start()\n",
    "\n",
    "t1.join()\n",
    "t2.join()\n",
    "\n",
    "finish = time.perf_counter() #using to find the time the entrirer sequecnce takes from here\n",
    "\n",
    "\n",
    "print(f'Finished in {round(finish-start,2)} seconds')\n"
   ]
  },
  {
   "cell_type": "code",
   "execution_count": 6,
   "id": "ee985e49-3364-4181-8361-455649f02a90",
   "metadata": {},
   "outputs": [
    {
     "name": "stdout",
     "output_type": "stream",
     "text": [
      "Sleeping 1 second...\n",
      "Sleeping 1 second...\n",
      "Sleeping 1 second...\n",
      "Sleeping 1 second...\n",
      "Sleeping 1 second...\n",
      "Sleeping 1 second...\n",
      "Sleeping 1 second...\n",
      "Sleeping 1 second...\n",
      "Sleeping 1 second...\n",
      "Sleeping 1 second...\n",
      "Finished in 0.01 seconds\n",
      "Done Sleeping\n",
      "Done Sleeping\n",
      "Done Sleeping\n",
      "Done Sleeping\n",
      "Done Sleeping\n",
      "Done Sleeping\n",
      "Done Sleeping\n",
      "Done Sleeping\n",
      "Done Sleeping\n",
      "Done Sleeping\n"
     ]
    }
   ],
   "source": [
    "import threading     #no need to install, its already a part of python package, this is the traditional way of doing threading, more effective ways are done with pools\n",
    "import time\n",
    "\n",
    "start = time.perf_counter() #using to find the time the entrirer sequecnce takes from here\n",
    "\n",
    "def do_something():\n",
    "    print('Sleeping 1 second...')\n",
    "    time.sleep(1)\n",
    "    print('Done Sleeping')\n",
    "\n",
    "for _ in range(10):      # underscore variable is a throwaway variable to simply loop for 10 times and we are not doing anything else with it in the loop\n",
    "    t = threading.Thread(target = do_something)\n",
    "    t.start()            # We cant use join() within the loop as it will join on the thread before looping through, creating and starting the next thread, it becomes like synchronous execution as shown in the first diagram\n",
    "                         # To do this we can create a list of threads and perform join()\n",
    "\n",
    "\n",
    "finish = time.perf_counter() #using to find the time the entrirer sequecnce takes from here\n",
    "\n",
    "\n",
    "print(f'Finished in {round(finish-start,2)} seconds')\n"
   ]
  },
  {
   "cell_type": "code",
   "execution_count": null,
   "id": "1e16873a-a932-4f44-97e4-5c3d61cb94ae",
   "metadata": {},
   "outputs": [],
   "source": [
    "# Threading effect with 10 calls\n",
    "import threading    \n",
    "import time\n",
    "\n",
    "start = time.perf_counter() \n",
    "\n",
    "def do_something():\n",
    "    print('Sleeping 1 second...')\n",
    "    time.sleep(1)\n",
    "    print('Done Sleeping')\n",
    "\n",
    "threads = []\n",
    "    \n",
    "for _ in range(10):     \n",
    "    t = threading.Thread(target = do_something)\n",
    "    t.start()  \n",
    "    threads.append(t)\n",
    "\n",
    "for thread in threads:\n",
    "    thread.join()    \n",
    "\n",
    "    \n",
    "finish = time.perf_counter()\n",
    "\n",
    "\n",
    "print(f'Finished in {round(finish-start,2)} seconds')"
   ]
  },
  {
   "cell_type": "code",
   "execution_count": null,
   "id": "3b1a4437-ad47-4b37-9289-9391fc3f150f",
   "metadata": {},
   "outputs": [],
   "source": [
    "# Threading fucntions with arguments\n",
    "\n",
    "# Threading effect with 10 calls\n",
    "import threading    \n",
    "import time\n",
    "\n",
    "start = time.perf_counter() \n",
    "\n",
    "def do_something(seconds):                    #argument passed here\n",
    "    print(f'Sleeping {seconds} second(s)...') #fstring\n",
    "    time.sleep(seconds)\n",
    "    print('Done Sleeping')\n",
    "\n",
    "threads = []\n",
    "    \n",
    "for _ in range(10):     \n",
    "    t = threading.Thread(target = do_something, args = [1.5]) #same argument for all threads in the list\n",
    "    t.start()  \n",
    "    threads.append(t)\n",
    "\n",
    "for thread in threads:\n",
    "    thread.join()    \n",
    "\n",
    "    \n",
    "finish = time.perf_counter()\n",
    "\n",
    "\n",
    "print(f'Finished in {round(finish-start,2)} seconds')\n"
   ]
  },
  {
   "cell_type": "code",
   "execution_count": null,
   "id": "4722b3f3-f28f-4e6d-b921-d25dcf6982c8",
   "metadata": {},
   "outputs": [],
   "source": [
    "import concurrent.futures\n",
    "# import threading    - Not required\n",
    "import time\n",
    "\n",
    "start = time.perf_counter() \n",
    "\n",
    "def do_something(seconds):                    \n",
    "    print(f'Sleeping {seconds} second(s)...') \n",
    "    time.sleep(seconds)\n",
    "    #print('Done Sleeping')\n",
    "    return 'Done Sleeping...'\n",
    "\n",
    "with concurrent.futures.ThreadPoolExecutor() as executor:\n",
    "    f1 = executor.submit(do_something, 1)  #submit function will schedule the execution of function and returns a furture object\n",
    "    print(f1.result())\n",
    "\n",
    "   \n",
    "finish = time.perf_counter()\n",
    "\n",
    "\n",
    "print(f'Finished in {round(finish-start,2)} seconds')\n"
   ]
  },
  {
   "cell_type": "code",
   "execution_count": null,
   "id": "471588ec-a0a5-4d11-a25e-9ec63bca848d",
   "metadata": {},
   "outputs": [],
   "source": [
    "import concurrent.futures\n",
    "# import threading    - Not required\n",
    "import time\n",
    "\n",
    "start = time.perf_counter() \n",
    "\n",
    "def do_something(seconds):                    \n",
    "    print(f'Sleeping {seconds} second(s)...') \n",
    "    time.sleep(seconds)\n",
    "    #print('Done Sleeping')\n",
    "    return 'Done Sleeping...'\n",
    "\n",
    "with concurrent.futures.ThreadPoolExecutor() as executor:\n",
    "    f1 = executor.submit(do_something, 1)  #submit function will schedule the execution of function and returns a furture object\n",
    "    f2 = executor.submit(do_something, 1)\n",
    "    print(f1.result())\n",
    "    print(f2.result())\n",
    "\n",
    "   \n",
    "finish = time.perf_counter()\n",
    "\n",
    "\n",
    "print(f'Finished in {round(finish-start,2)} seconds')\n"
   ]
  },
  {
   "cell_type": "code",
   "execution_count": null,
   "id": "58d68435-abf0-444c-b6d4-8e642a26d98f",
   "metadata": {},
   "outputs": [],
   "source": [
    "import concurrent.futures\n",
    "import time\n",
    "\n",
    "start = time.perf_counter() \n",
    "\n",
    "def do_something(seconds):                    \n",
    "    print(f'Sleeping {seconds} second(s)...') \n",
    "    time.sleep(seconds)\n",
    "    return 'Done Sleeping...'\n",
    "\n",
    "with concurrent.futures.ThreadPoolExecutor() as executor:\n",
    "    results = [executor.submit(do_something, 1) for _ in range(10)] #list comprehension, alternative to loop\n",
    "\n",
    "    for f in concurrent.futures.as_completed(results):\n",
    "        print(f.result())\n",
    "      \n",
    "\n",
    "   \n",
    "finish = time.perf_counter()\n",
    "\n",
    "\n",
    "print(f'Finished in {round(finish-start,2)} seconds')\n"
   ]
  },
  {
   "cell_type": "code",
   "execution_count": 12,
   "id": "adb8320b-0f01-4423-9c6b-2caddc6f2b35",
   "metadata": {},
   "outputs": [
    {
     "name": "stdout",
     "output_type": "stream",
     "text": [
      "Sleeping [5, 4, 3, 2, 1] second(s)...\n",
      "Sleeping [5, 4, 3, 2, 1] second(s)...\n",
      "Sleeping [5, 4, 3, 2, 1] second(s)...\n",
      "Sleeping [5, 4, 3, 2, 1] second(s)...\n",
      "Sleeping [5, 4, 3, 2, 1] second(s)...\n"
     ]
    },
    {
     "ename": "TypeError",
     "evalue": "'list' object cannot be interpreted as an integer",
     "output_type": "error",
     "traceback": [
      "\u001b[31m---------------------------------------------------------------------------\u001b[39m",
      "\u001b[31mTypeError\u001b[39m                                 Traceback (most recent call last)",
      "\u001b[36mCell\u001b[39m\u001b[36m \u001b[39m\u001b[32mIn[12]\u001b[39m\u001b[32m, line 16\u001b[39m\n\u001b[32m     13\u001b[39m      results = [executor.submit(do_something, s) \u001b[38;5;28;01mfor\u001b[39;00m sec \u001b[38;5;129;01min\u001b[39;00m s] \u001b[38;5;66;03m#list comprehension, alternative to loop\u001b[39;00m\n\u001b[32m     15\u001b[39m      \u001b[38;5;28;01mfor\u001b[39;00m f \u001b[38;5;129;01min\u001b[39;00m concurrent.futures.as_completed(results):\n\u001b[32m---> \u001b[39m\u001b[32m16\u001b[39m          \u001b[38;5;28mprint\u001b[39m(\u001b[43mf\u001b[49m\u001b[43m.\u001b[49m\u001b[43mresult\u001b[49m\u001b[43m(\u001b[49m\u001b[43m)\u001b[49m)\n\u001b[32m     20\u001b[39m finish = time.perf_counter()\n\u001b[32m     24\u001b[39m \u001b[38;5;28mprint\u001b[39m(\u001b[33mf\u001b[39m\u001b[33m'\u001b[39m\u001b[33mFinished in \u001b[39m\u001b[38;5;132;01m{\u001b[39;00m\u001b[38;5;28mround\u001b[39m(finish-start,\u001b[32m2\u001b[39m)\u001b[38;5;132;01m}\u001b[39;00m\u001b[33m seconds\u001b[39m\u001b[33m'\u001b[39m)\n",
      "\u001b[36mFile \u001b[39m\u001b[32m~\\AppData\\Local\\Programs\\Python\\Python313\\Lib\\concurrent\\futures\\_base.py:449\u001b[39m, in \u001b[36mFuture.result\u001b[39m\u001b[34m(self, timeout)\u001b[39m\n\u001b[32m    447\u001b[39m     \u001b[38;5;28;01mraise\u001b[39;00m CancelledError()\n\u001b[32m    448\u001b[39m \u001b[38;5;28;01melif\u001b[39;00m \u001b[38;5;28mself\u001b[39m._state == FINISHED:\n\u001b[32m--> \u001b[39m\u001b[32m449\u001b[39m     \u001b[38;5;28;01mreturn\u001b[39;00m \u001b[38;5;28;43mself\u001b[39;49m\u001b[43m.\u001b[49m\u001b[43m__get_result\u001b[49m\u001b[43m(\u001b[49m\u001b[43m)\u001b[49m\n\u001b[32m    451\u001b[39m \u001b[38;5;28mself\u001b[39m._condition.wait(timeout)\n\u001b[32m    453\u001b[39m \u001b[38;5;28;01mif\u001b[39;00m \u001b[38;5;28mself\u001b[39m._state \u001b[38;5;129;01min\u001b[39;00m [CANCELLED, CANCELLED_AND_NOTIFIED]:\n",
      "\u001b[36mFile \u001b[39m\u001b[32m~\\AppData\\Local\\Programs\\Python\\Python313\\Lib\\concurrent\\futures\\_base.py:401\u001b[39m, in \u001b[36mFuture.__get_result\u001b[39m\u001b[34m(self)\u001b[39m\n\u001b[32m    399\u001b[39m \u001b[38;5;28;01mif\u001b[39;00m \u001b[38;5;28mself\u001b[39m._exception \u001b[38;5;129;01mis\u001b[39;00m \u001b[38;5;129;01mnot\u001b[39;00m \u001b[38;5;28;01mNone\u001b[39;00m:\n\u001b[32m    400\u001b[39m     \u001b[38;5;28;01mtry\u001b[39;00m:\n\u001b[32m--> \u001b[39m\u001b[32m401\u001b[39m         \u001b[38;5;28;01mraise\u001b[39;00m \u001b[38;5;28mself\u001b[39m._exception\n\u001b[32m    402\u001b[39m     \u001b[38;5;28;01mfinally\u001b[39;00m:\n\u001b[32m    403\u001b[39m         \u001b[38;5;66;03m# Break a reference cycle with the exception in self._exception\u001b[39;00m\n\u001b[32m    404\u001b[39m         \u001b[38;5;28mself\u001b[39m = \u001b[38;5;28;01mNone\u001b[39;00m\n",
      "\u001b[36mFile \u001b[39m\u001b[32m~\\AppData\\Local\\Programs\\Python\\Python313\\Lib\\concurrent\\futures\\thread.py:59\u001b[39m, in \u001b[36m_WorkItem.run\u001b[39m\u001b[34m(self)\u001b[39m\n\u001b[32m     56\u001b[39m     \u001b[38;5;28;01mreturn\u001b[39;00m\n\u001b[32m     58\u001b[39m \u001b[38;5;28;01mtry\u001b[39;00m:\n\u001b[32m---> \u001b[39m\u001b[32m59\u001b[39m     result = \u001b[38;5;28;43mself\u001b[39;49m\u001b[43m.\u001b[49m\u001b[43mfn\u001b[49m\u001b[43m(\u001b[49m\u001b[43m*\u001b[49m\u001b[38;5;28;43mself\u001b[39;49m\u001b[43m.\u001b[49m\u001b[43margs\u001b[49m\u001b[43m,\u001b[49m\u001b[43m \u001b[49m\u001b[43m*\u001b[49m\u001b[43m*\u001b[49m\u001b[38;5;28;43mself\u001b[39;49m\u001b[43m.\u001b[49m\u001b[43mkwargs\u001b[49m\u001b[43m)\u001b[49m\n\u001b[32m     60\u001b[39m \u001b[38;5;28;01mexcept\u001b[39;00m \u001b[38;5;167;01mBaseException\u001b[39;00m \u001b[38;5;28;01mas\u001b[39;00m exc:\n\u001b[32m     61\u001b[39m     \u001b[38;5;28mself\u001b[39m.future.set_exception(exc)\n",
      "\u001b[36mCell\u001b[39m\u001b[36m \u001b[39m\u001b[32mIn[12]\u001b[39m\u001b[32m, line 8\u001b[39m, in \u001b[36mdo_something\u001b[39m\u001b[34m(seconds)\u001b[39m\n\u001b[32m      6\u001b[39m \u001b[38;5;28;01mdef\u001b[39;00m\u001b[38;5;250m \u001b[39m\u001b[34mdo_something\u001b[39m(seconds):                    \n\u001b[32m      7\u001b[39m      \u001b[38;5;28mprint\u001b[39m(\u001b[33mf\u001b[39m\u001b[33m'\u001b[39m\u001b[33mSleeping \u001b[39m\u001b[38;5;132;01m{\u001b[39;00mseconds\u001b[38;5;132;01m}\u001b[39;00m\u001b[33m second(s)...\u001b[39m\u001b[33m'\u001b[39m) \n\u001b[32m----> \u001b[39m\u001b[32m8\u001b[39m      \u001b[43mtime\u001b[49m\u001b[43m.\u001b[49m\u001b[43msleep\u001b[49m\u001b[43m(\u001b[49m\u001b[43mseconds\u001b[49m\u001b[43m)\u001b[49m\n\u001b[32m      9\u001b[39m      \u001b[38;5;28;01mreturn\u001b[39;00m \u001b[33mf\u001b[39m\u001b[33m'\u001b[39m\u001b[33mDone Sleeping...\u001b[39m\u001b[38;5;132;01m{\u001b[39;00mseconds\u001b[38;5;132;01m}\u001b[39;00m\u001b[33m'\u001b[39m\n",
      "\u001b[31mTypeError\u001b[39m: 'list' object cannot be interpreted as an integer"
     ]
    }
   ],
   "source": [
    "#ERROR \n",
    "\n",
    "\n",
    "#1. This error happens when a function expects a number but gets a list .\n",
    "#2. \"time.sleep()\" only accepts int/float seconds, not a collection.\n",
    "#3. Passing the wrong data type triggers a TypeError.\n",
    "\n",
    "import concurrent.futures\n",
    "import time\n",
    "\n",
    "start = time.perf_counter() \n",
    "\n",
    "def do_something(seconds):                    \n",
    "     print(f'Sleeping {seconds} second(s)...') \n",
    "     time.sleep(seconds)\n",
    "     return f'Done Sleeping...{seconds}'\n",
    "\n",
    "with concurrent.futures.ThreadPoolExecutor() as executor:\n",
    "     s = [5,4,3,2,1] #different sleeping time for threads\n",
    "     results = [executor.submit(do_something, s) for sec in s] #list comprehension, alternative to loop\n",
    "\n",
    "     for f in concurrent.futures.as_completed(results):\n",
    "         print(f.result())   \n",
    "finish = time.perf_counter()\n",
    "\n",
    "print(f'Finished in {round(finish-start,2)} seconds')\n"
   ]
  },
  {
   "cell_type": "code",
   "execution_count": 10,
   "id": "b391b72d-6074-4ae1-8033-85a893827efb",
   "metadata": {},
   "outputs": [
    {
     "name": "stdout",
     "output_type": "stream",
     "text": [
      "Sleeping 5 second(s)...\n",
      "Sleeping 4 second(s)...\n",
      "Sleeping 3 second(s)...\n",
      "Sleeping 2 second(s)...\n",
      "Sleeping 1 second(s)...\n",
      "Done Sleeping...1\n",
      "Done Sleeping...2\n",
      "Done Sleeping...3\n",
      "Done Sleeping...4\n",
      "Done Sleeping...5\n",
      "Finished in 5.01 seconds\n"
     ]
    }
   ],
   "source": [
    "#FIXED ERROR\n",
    "import concurrent.futures\n",
    "import time\n",
    "\n",
    "start = time.perf_counter()\n",
    "\n",
    "def do_something(seconds):                    \n",
    "    print(f\"Sleeping {seconds} second(s)...\") \n",
    "    time.sleep(seconds)\n",
    "    return f\"Done Sleeping...{seconds}\"\n",
    "\n",
    "with concurrent.futures.ThreadPoolExecutor() as executor:\n",
    "    s = [5, 4, 3, 2, 1]  # different sleeping time for threads\n",
    "    \n",
    "    # Corrected list comprehension (use sec instead of s)\n",
    "    results = [executor.submit(do_something, sec) for sec in s]  \n",
    "\n",
    "    for f in concurrent.futures.as_completed(results):\n",
    "        print(f.result())\n",
    "\n",
    "finish = time.perf_counter()\n",
    "print(f\"Finished in {round(finish-start, 2)} seconds\")\n"
   ]
  },
  {
   "cell_type": "code",
   "execution_count": 13,
   "id": "c6ba7239-2dce-414b-aa8c-b701400fe19c",
   "metadata": {},
   "outputs": [
    {
     "name": "stdout",
     "output_type": "stream",
     "text": [
      "John\n",
      "Mark\n",
      "Elon\n",
      "Callahan\n",
      "23\n",
      "26\n",
      "45\n",
      "38\n"
     ]
    }
   ],
   "source": [
    "import threading\n",
    "import time\n",
    "import random\n",
    "\n",
    "def print_names():\n",
    "    for name in ('John', 'Mark', 'Elon', 'Callahan'):\n",
    "        print (name)\n",
    "        time.sleep(random.uniform ( 0.5, 1.5))\n",
    "\n",
    "def print_ages():\n",
    "    for _ in range(4):\n",
    "        print(random.randint(20,50))\n",
    "        time.sleep(random.uniform(0.5,1.5))\n",
    "\n",
    "\n",
    "print_names()\n",
    "print_ages()\n",
    "        "
   ]
  },
  {
   "cell_type": "code",
   "execution_count": 14,
   "id": "f560fa1a-fb6d-489c-acc1-22e1b5e4abd9",
   "metadata": {},
   "outputs": [
    {
     "name": "stdout",
     "output_type": "stream",
     "text": [
      "John\n",
      "25\n",
      "Mark\n",
      "34\n",
      "23\n",
      "Elon\n",
      "33\n",
      "Callahan\n"
     ]
    }
   ],
   "source": [
    "import threading\n",
    "import time\n",
    "import random\n",
    "\n",
    "def print_names():\n",
    "    for name in ('John', 'Mark', 'Elon', 'Callahan'):\n",
    "        print (name)\n",
    "        time.sleep(random.uniform ( 0.5, 1.5))\n",
    "\n",
    "def print_ages():\n",
    "    for _ in range(4):\n",
    "        print(random.randint(20,50))\n",
    "        time.sleep(random.uniform(0.5,1.5))\n",
    "\n",
    "\n",
    "t1 = threading.Thread(target = print_names)\n",
    "t2 = threading.Thread(target = print_ages)\n",
    "\n",
    "# The above threads are not doing anything yet. To do that, use start()\n",
    "\n",
    "t1.start()\n",
    "t2.start()\n",
    "\n",
    "# t1.join()\n",
    "# t2.join()\n",
    "        "
   ]
  },
  {
   "cell_type": "code",
   "execution_count": 15,
   "id": "fbff462c-75a8-4472-9a8c-4d7fe7c9c3fa",
   "metadata": {},
   "outputs": [
    {
     "name": "stdout",
     "output_type": "stream",
     "text": [
      "John\n",
      "21\n",
      "Mark\n",
      "24\n",
      "Elon\n",
      "41\n",
      "Callahan\n",
      "50\n"
     ]
    }
   ],
   "source": [
    "import threading\n",
    "import time\n",
    "import random\n",
    "\n",
    "def print_names():\n",
    "    for name in ('John', 'Mark', 'Elon', 'Callahan'):\n",
    "        print (name)\n",
    "        time.sleep(random.uniform ( 0.5, 1.5))\n",
    "\n",
    "def print_ages():\n",
    "    for _ in range(4):\n",
    "        print(random.randint(20,50))\n",
    "        time.sleep(random.uniform(0.5,1.5))\n",
    "\n",
    "\n",
    "t1 = threading.Thread(target = print_names)\n",
    "t2 = threading.Thread(target = print_ages)\n",
    "\n",
    "# The above threads are not doing anything yet. To do that, use start()\n",
    "\n",
    "t1.start()\n",
    "t2.start()\n",
    "\n",
    "t1.join()\n",
    "t2.join()\n",
    "        "
   ]
  },
  {
   "cell_type": "code",
   "execution_count": 16,
   "id": "5004be79-c68d-477d-b46c-734ff31416f4",
   "metadata": {},
   "outputs": [
    {
     "name": "stdout",
     "output_type": "stream",
     "text": [
      "Downloading https://www.gutenberg.org/ebooks/8627/8627-readme.txt to Downloads/8627-readme.txt\n",
      "Finished Downloading Downloads/8627-readme.txt\n"
     ]
    },
    {
     "data": {
      "text/plain": [
       "[None]"
      ]
     },
     "execution_count": 16,
     "metadata": {},
     "output_type": "execute_result"
    }
   ],
   "source": [
    "import threading\n",
    "import requests\n",
    "from pathlib import Path\n",
    "\n",
    "def download_file(url, filename):\n",
    "    print(f'Downloading {url} to {filename}')\n",
    "    response = requests.get(url)\n",
    "    Path(filename).write_bytes(response.content)\n",
    "    print(f'Finished Downloading {filename}')\n",
    "\n",
    "base_url = \"https://www.gutenberg.org/ebooks/8627\"\n",
    "urls = [\n",
    "    f'{base_url}/8627-readme.txt',\n",
    "    #f'{base_url}/new_file.txt',\n",
    "]\n",
    "\n",
    "threads = []\n",
    "for url in urls:\n",
    "    filename = \"Downloads/\" + url.split(\"/\")[-1]\n",
    "    t = threading.Thread(target = download_file, args =(url,filename))\n",
    "    t.start()\n",
    "    threads.append(t)\n",
    "\n",
    "[t.join() for t in threads]\n",
    "\n",
    "       \n",
    "\n",
    "       \n",
    "    "
   ]
  },
  {
   "cell_type": "code",
   "execution_count": null,
   "id": "d54b7cbe-0208-41e0-bc75-e6fe3da20c73",
   "metadata": {},
   "outputs": [],
   "source": []
  }
 ],
 "metadata": {
  "kernelspec": {
   "display_name": "Python 3 (ipykernel)",
   "language": "python",
   "name": "python3"
  },
  "language_info": {
   "codemirror_mode": {
    "name": "ipython",
    "version": 3
   },
   "file_extension": ".py",
   "mimetype": "text/x-python",
   "name": "python",
   "nbconvert_exporter": "python",
   "pygments_lexer": "ipython3",
   "version": "3.13.5"
  }
 },
 "nbformat": 4,
 "nbformat_minor": 5
}
